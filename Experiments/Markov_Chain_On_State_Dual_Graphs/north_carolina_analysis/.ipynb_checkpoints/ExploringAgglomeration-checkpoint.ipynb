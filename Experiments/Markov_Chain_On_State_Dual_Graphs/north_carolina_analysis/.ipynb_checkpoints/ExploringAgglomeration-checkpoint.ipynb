{
 "cells": [
  {
   "cell_type": "code",
   "execution_count": 2,
   "id": "a0eab179",
   "metadata": {},
   "outputs": [],
   "source": [
    "import geopandas as gpd\n",
    "import pandas as pd\n",
    "from gerrychain import Graph\n",
    "import random\n",
    "import networkx as nx\n",
    "import numpy as np\n",
    "\n",
    "import facefinder\n",
    "import numpy as np\n",
    "import pandas as pd\n",
    "import random\n",
    "import pickle\n",
    "import csv\n",
    "import copy\n",
    "import statistics\n",
    "import math\n",
    "import gerrychain\n",
    "import networkx\n",
    "import matplotlib as mpl\n",
    "import matplotlib.pyplot as plt\n",
    "import networkx as nx\n",
    "import os\n",
    "import json\n",
    "import argparse\n",
    "from functools import partial\n",
    "from gerrychain.tree import bipartition_tree as bpt\n",
    "from gerrychain import Graph, MarkovChain\n",
    "from gerrychain import accept\n",
    "from gerrychain.constraints import (Validator, single_flip_contiguous,\n",
    "                                    within_percent_of_ideal_population, UpperBound)\n",
    "from gerrychain.proposals import propose_random_flip, propose_chunk_flip\n",
    "from gerrychain.accept import always_accept\n",
    "from gerrychain.updaters import Election, Tally, cut_edges\n",
    "from gerrychain import GeographicPartition\n",
    "from gerrychain.partition import Partition\n",
    "from gerrychain.proposals import recom\n",
    "from gerrychain.metrics import mean_median, efficiency_gap\n",
    "from gerrychain.tree import recursive_tree_part, bipartition_tree_random, PopulatedGraph, random_spanning_tree\n",
    "from collections import defaultdict\n",
    "from datetime import datetime\n",
    "import time\n",
    "from concurrent.futures import ProcessPoolExecutor\n",
    "import logging\n"
   ]
  },
  {
   "cell_type": "markdown",
   "id": "67c034c5",
   "metadata": {},
   "source": [
    "# Helper functions"
   ]
  },
  {
   "cell_type": "code",
   "execution_count": 3,
   "id": "bdb2d3bc",
   "metadata": {},
   "outputs": [],
   "source": [
    "def agglomerate(graph, agg_field = \"dem_prop\", agg_field_threshold = .5,  pop_cap = 6000, \n",
    "                steps = 1000000):\n",
    "    # go through map, agglomerate VTDs that have similar EL16G_GV_D_block proportions, until pop_cap is reached\n",
    "    # also allow merging of zero pop blocks with no condition.\n",
    "    for i in range(steps):\n",
    "        #if i % 100000 == 0:\n",
    "            #print(i)\n",
    "        if i % 10000 == 0:\n",
    "            edges = list(graph.edges())\n",
    "        e = random.choice(edges)\n",
    "        if graph.has_edge(e[0], e[1]):\n",
    "\n",
    "            if  (graph.nodes[e[0]]['TOTPOP_block'] == 0 or\n",
    "                 graph.nodes[e[1]]['TOTPOP_block'] == 0 or\n",
    "                 (graph.nodes[e[0]][agg_field] >  agg_field_threshold and \n",
    "                graph.nodes[e[1]][agg_field] >  agg_field_threshold)):\n",
    "                tot_pop = graph.nodes[e[0]]['TOTPOP_block'] + graph.nodes[e[1]]['TOTPOP_block']\n",
    "                tot_dem = graph.nodes[e[0]]['dem']+ graph.nodes[e[1]]['dem']\n",
    "                tot_rep = graph.nodes[e[0]]['rep'] + graph.nodes[e[1]]['rep']\n",
    "                #print(tot_pop)\n",
    "                if tot_pop < pop_cap:\n",
    "                    graph.nodes[e[0]]['cluster'] = graph.nodes[e[0]]['cluster'] + graph.nodes[e[1]]['cluster'] \n",
    "                    nx.contracted_nodes(graph, e[0], e[1], copy = False, self_loops = False)\n",
    "                    # according to documentation node named e[0] remains\n",
    "                    #print(e)\n",
    "                    graph.nodes[e[0]]['TOTPOP_block'] = tot_pop\n",
    "                    graph.nodes[e[0]]['dem'] = tot_dem\n",
    "                    graph.nodes[e[0]]['rep'] = tot_rep\n",
    "                    if tot_pop !=0 :\n",
    "\n",
    "                        graph.nodes[e[0]]['dem_prop'] = tot_dem / tot_pop\n",
    "                        graph.nodes[e[0]]['rep_prop'] = tot_rep / tot_pop\n",
    "                    else:\n",
    "                        graph.nodes[e[0]]['dem_prop'] = np.nan\n",
    "                        graph.nodes[e[0]]['rep_prop'] = np.nan"
   ]
  },
  {
   "cell_type": "code",
   "execution_count": 4,
   "id": "030e01f0",
   "metadata": {},
   "outputs": [],
   "source": [
    "def create_candidate(blocks_graph,\n",
    "                     target_num_vtds = 4000,\n",
    "                    dem_threshold = .7, dem_pop_cap = 8000, dem_steps = 200000,\n",
    "                    rep_threshold = 0, rep_pop_cap = 2000, rep_steps = 2000,\n",
    "                     save = False,\n",
    "                     print_progress = False\n",
    "                    ):\n",
    "    blocks_graph_test = blocks_graph_in.copy()\n",
    "    if print_progress:\n",
    "        print(f\"Currently has {len(blocks_graph_test)} nodes\")\n",
    "    last = len(blocks_graph_test)\n",
    "    for n in blocks_graph_test.nodes():\n",
    "        blocks_graph_test.nodes[n]['cluster'] = [n]\n",
    "    while len(blocks_graph_test) > target_num_vtds:\n",
    "        agglomerate(graph = blocks_graph_test, agg_field = \"dem_prop\", \n",
    "                    agg_field_threshold = dem_threshold,  pop_cap = dem_pop_cap,  steps = dem_steps)\n",
    "        agglomerate(graph = blocks_graph_test, agg_field = \"rep_prop\",  \n",
    "                    agg_field_threshold = rep_threshold,  pop_cap = rep_pop_cap,  steps = rep_steps)\n",
    "        if print_progress:\n",
    "            print(f\"Currently has {len(blocks_graph_test)} nodes\")\n",
    "        if len(blocks_graph_test) == last:\n",
    "            # some more aggressive joining at this point\n",
    "            agglomerate(graph = blocks_graph_test, agg_field = \"rep_prop\",  \n",
    "                    agg_field_threshold = 0,  pop_cap = 3000,  steps = 2000000)\n",
    "        last = len(blocks_graph_test)\n",
    "    if print_progress:\n",
    "        print(\"Finished. Stats:\")    \n",
    "        print(f\"Has {len(blocks_graph_test)} VTDs\")\n",
    "        pops = []\n",
    "        for node in blocks_graph_test.nodes():\n",
    "            if blocks_graph_test.nodes[node]['dem'] > blocks_graph_test.nodes[node]['rep'] * 0:\n",
    "                pops.append(blocks_graph_test.nodes[node]['TOTPOP_block'])\n",
    "        pd.Series(pops).plot(kind = 'hist', bins = 30, title = \"VTD pops\")\n",
    "        plt.show()\n",
    "    name = str(datetime.now()).replace(\" \", \"\").replace(\":\", \"_\")\n",
    "    saved_name = f\"candidate_blocks_graph{name}\"\n",
    "    if save == True:\n",
    "\n",
    "        nx.write_gpickle(blocks_graph_test,f'./processed_data_outputs/{saved_name}.json')\n",
    "    return blocks_graph_test, saved_name"
   ]
  },
  {
   "cell_type": "code",
   "execution_count": 29,
   "id": "45a1674e",
   "metadata": {},
   "outputs": [],
   "source": [
    "def gerry(blocks_graph_test, gerrychain_steps = 10000, epsilon = .2):\n",
    "    updaters = {'population': Tally('population'),\n",
    "                        'cut_edges': cut_edges,\n",
    "                        }\n",
    "    num_districts = 13\n",
    "    ideal_population= sum( blocks_graph_test.nodes[x][\"TOTPOP_block\"] for x in blocks_graph_test.nodes())/ num_districts\n",
    "\n",
    "    for n in blocks_graph_test.nodes():\n",
    "        blocks_graph_test.nodes[n][\"population\"] =  blocks_graph_test.nodes[n][\"TOTPOP_block\"]\n",
    "    \n",
    "        \n",
    "    # accept imported\n",
    "    initial_partition_assignment =gerrychain.tree.recursive_tree_part(blocks_graph_test, \n",
    "                                                            range(num_districts), \n",
    "                                                            ideal_population, \"population\", epsilon)\n",
    "    \n",
    "    for n in blocks_graph_test.nodes():\n",
    "        blocks_graph_test.nodes[n][\"district\"] = initial_partition_assignment[n]\n",
    "    \n",
    "    initial_partition = Partition(blocks_graph_test, assignment='district',  updaters=updaters)\n",
    "    \n",
    "    \n",
    "    popbound = within_percent_of_ideal_population(initial_partition, epsilon)\n",
    "    tree_proposal = partial(recom, pop_col = 'population', pop_target=ideal_population, epsilon=epsilon,\n",
    "                                node_repeats=1)\n",
    "\n",
    "\n",
    "    exp_chain = MarkovChain(tree_proposal, Validator([popbound]), accept=accept.always_accept,\n",
    "                            initial_state=initial_partition, total_steps=gerrychain_steps)\n",
    "    seats_won_for_republicans = []\n",
    "    seats_won_for_democrats = []\n",
    "    \n",
    "    for part in exp_chain:\n",
    "        rep_seats_won = 0\n",
    "        dem_seats_won = 0\n",
    "        for j in range(num_districts):\n",
    "            rep_votes = 0\n",
    "            dem_votes = 0\n",
    "            for n in blocks_graph_test.nodes():\n",
    "                if part.assignment[n] == j:\n",
    "                    rep_votes += blocks_graph_test.nodes[n][\"rep\"]\n",
    "                    dem_votes += blocks_graph_test.nodes[n][\"dem\"]\n",
    "            total_seats_dem = int(dem_votes > rep_votes)\n",
    "            total_seats_rep = int(rep_votes > dem_votes)\n",
    "            rep_seats_won += total_seats_rep\n",
    "            dem_seats_won += total_seats_dem\n",
    "        seats_won_for_republicans.append(rep_seats_won)\n",
    "        seats_won_for_democrats.append(dem_seats_won)\n",
    "\n",
    "    rep_avg = statistics.mean(seats_won_for_republicans)\n",
    "    dem_avg = statistics.mean(seats_won_for_democrats)\n",
    "    print(\"avg rep seats \", rep_avg)\n",
    "\n",
    "    print(\"avg dem seats \", dem_avg)\n",
    "    \n",
    "    pd.Series(seats_won_for_republicans).plot(kind = 'hist', title = 'rep seats')\n",
    "    plt.show()\n",
    "    plt.close()\n",
    "    return dem_avg, rep_avg, seats_won_for_republicans"
   ]
  },
  {
   "cell_type": "markdown",
   "id": "7f4d5303",
   "metadata": {},
   "source": [
    "# Load"
   ]
  },
  {
   "cell_type": "code",
   "execution_count": 6,
   "id": "375fbe44",
   "metadata": {},
   "outputs": [],
   "source": [
    "blocks_graph_in = Graph.from_json('./processed_data_outputs/blocks_graph.json')"
   ]
  },
  {
   "cell_type": "markdown",
   "id": "2799b2ab",
   "metadata": {},
   "source": [
    "# Experiments"
   ]
  },
  {
   "cell_type": "code",
   "execution_count": 8,
   "id": "d2fbae36",
   "metadata": {},
   "outputs": [
    {
     "name": "stdout",
     "output_type": "stream",
     "text": [
      "Currently has 288987 nodes\n",
      "Currently has 226008 nodes\n",
      "Currently has 189324 nodes\n",
      "Currently has 164218 nodes\n",
      "Currently has 143212 nodes\n",
      "Currently has 123713 nodes\n",
      "Currently has 105078 nodes\n",
      "Currently has 87150 nodes\n",
      "Currently has 70032 nodes\n",
      "Currently has 54061 nodes\n",
      "Currently has 39804 nodes\n",
      "Currently has 28183 nodes\n",
      "Currently has 19554 nodes\n",
      "Finished. Stats:\n",
      "Has 19554 VTDs\n"
     ]
    },
    {
     "data": {
      "image/png": "[encoded data removed]",
      "text/plain": [
       "<Figure size 640x480 with 1 Axes>"
      ]
     },
     "metadata": {},
     "output_type": "display_data"
    },
    {
     "name": "stdout",
     "output_type": "stream",
     "text": [
      "running gerrychain\n",
      "error, retrying\n",
      "error, retrying\n",
      "error, retrying\n",
      "error, retrying\n",
      "error, retrying\n",
      "error, retrying\n",
      "error, retrying\n",
      "error, retrying\n",
      "error, retrying\n",
      "error, retrying\n"
     ]
    },
    {
     "ename": "KeyboardInterrupt",
     "evalue": "",
     "output_type": "error",
     "traceback": [
      "\u001b[1;31m---------------------------------------------------------------------------\u001b[0m",
      "\u001b[1;31mNameError\u001b[0m                                 Traceback (most recent call last)",
      "Cell \u001b[1;32mIn [8], line 9\u001b[0m\n\u001b[0;32m      8\u001b[0m \u001b[38;5;28;01mtry\u001b[39;00m:\n\u001b[1;32m----> 9\u001b[0m     dem_avg, rep_avg \u001b[38;5;241m=\u001b[39m gerry(contracted, gerrychain_steps \u001b[38;5;241m=\u001b[39m \u001b[38;5;241m2000\u001b[39m)\n\u001b[0;32m     10\u001b[0m     \u001b[38;5;28;01mbreak\u001b[39;00m\n",
      "\u001b[1;31mNameError\u001b[0m: name 'contracted' is not defined",
      "\nDuring handling of the above exception, another exception occurred:\n",
      "\u001b[1;31mKeyboardInterrupt\u001b[0m                         Traceback (most recent call last)",
      "Cell \u001b[1;32mIn [8], line 13\u001b[0m\n\u001b[0;32m     11\u001b[0m     \u001b[38;5;28;01mexcept\u001b[39;00m:\n\u001b[0;32m     12\u001b[0m         \u001b[38;5;28mprint\u001b[39m(\u001b[38;5;124m'\u001b[39m\u001b[38;5;124merror, retrying\u001b[39m\u001b[38;5;124m'\u001b[39m)\n\u001b[1;32m---> 13\u001b[0m         time\u001b[38;5;241m.\u001b[39msleep(\u001b[38;5;241m1\u001b[39m) \u001b[38;5;66;03m# to let you escape more easily\u001b[39;00m\n\u001b[0;32m     14\u001b[0m \u001b[38;5;28;01mif\u001b[39;00m rep_avg \u001b[38;5;241m>\u001b[39m \u001b[38;5;241m9\u001b[39m:\n\u001b[0;32m     15\u001b[0m     \u001b[38;5;28mprint\u001b[39m(\u001b[38;5;124mf\u001b[39m\u001b[38;5;124m\"\u001b[39m\u001b[38;5;124msuccess(?) with \u001b[39m\u001b[38;5;132;01m{\u001b[39;00msaved_name\u001b[38;5;132;01m}\u001b[39;00m\u001b[38;5;124m as \u001b[39m\u001b[38;5;132;01m{\u001b[39;00mdem_avg\u001b[38;5;132;01m}\u001b[39;00m\u001b[38;5;124m, \u001b[39m\u001b[38;5;132;01m{\u001b[39;00mrep_avg\u001b[38;5;132;01m}\u001b[39;00m\u001b[38;5;124m\"\u001b[39m)\n",
      "\u001b[1;31mKeyboardInterrupt\u001b[0m: "
     ]
    }
   ],
   "source": [
    "\n",
    "# print('running gerrychain')\n",
    "# while True:\n",
    "#     try:\n",
    "#         dem_avg, rep_avg = gerry(contracted, gerrychain_steps = 2000)\n",
    "#         break\n",
    "#     except:\n",
    "#         print('error, retrying')\n",
    "#         time.sleep(1) # to let you escape more easily\n",
    "# if rep_avg > 9:\n",
    "#     print(f\"success(?) with {saved_name} as {dem_avg}, {rep_avg}\")\n",
    "#     print(\"writing to file\")\n",
    "#     nx.write_gpickle(blocks_graph_test,f'./processed_data_outputs/{saved_name}.json')"
   ]
  },
  {
   "cell_type": "code",
   "execution_count": 9,
   "id": "6bde281c",
   "metadata": {},
   "outputs": [],
   "source": []
  },
  {
   "cell_type": "code",
   "execution_count": null,
   "id": "bfb11245",
   "metadata": {},
   "outputs": [],
   "source": []
  },
  {
   "cell_type": "markdown",
   "id": "a5eda7fd",
   "metadata": {},
   "source": [
    "## Finding VTD partitions using recursive tree splits..."
   ]
  },
  {
   "cell_type": "code",
   "execution_count": 10,
   "id": "43695cb4",
   "metadata": {},
   "outputs": [],
   "source": [
    "def condensce_by_partition(graph, part):\n",
    "    # given graph, and label field for each node, return graph where all the nodes with the same lable have been contracted\n",
    "    # also, add up the pops and votes in each block\n",
    "    graph_copy = graph.copy()\n",
    "    \n",
    "    for supernode in part.parts.values():\n",
    "        nodes = list(supernode)\n",
    "        for node in nodes[1:]:\n",
    "            \n",
    "            tot_pop = graph_copy.nodes[nodes[0]]['TOTPOP_block'] + graph_copy.nodes[node]['TOTPOP_block']\n",
    "            tot_dem = graph_copy.nodes[nodes[0]]['dem']+ graph_copy.nodes[node]['dem']\n",
    "            tot_rep = graph_copy.nodes[nodes[0]]['rep'] + graph_copy.nodes[node]['rep']\n",
    "            nx.contracted_nodes(graph_copy, nodes[0], node, copy = False)\n",
    "            graph_copy.nodes[nodes[0]]['TOTPOP_block'] = tot_pop\n",
    "            graph_copy.nodes[nodes[0]]['dem'] = tot_dem\n",
    "            graph_copy.nodes[nodes[0]]['rep'] = tot_rep\n",
    "            \n",
    "    return graph_copy"
   ]
  },
  {
   "cell_type": "code",
   "execution_count": null,
   "id": "154f9a35",
   "metadata": {},
   "outputs": [],
   "source": [
    "blocks_graph_test, saved_name = create_candidate(blocks_graph_in,               \n",
    "                    target_num_vtds = 20000,\n",
    "                    dem_threshold = .7, dem_pop_cap = 8000, dem_steps = 200000,\n",
    "                    rep_threshold = 0, rep_pop_cap = 2000, rep_steps = 20000,\n",
    "                                                 save = False, print_progress = True)"
   ]
  },
  {
   "cell_type": "code",
   "execution_count": null,
   "id": "38e43836",
   "metadata": {},
   "outputs": [],
   "source": [
    "blocks_graph_test_back = blocks_graph_test.copy()\n",
    "# okay with shallow copy"
   ]
  },
  {
   "cell_type": "code",
   "execution_count": 27,
   "id": "52a7f3a0",
   "metadata": {},
   "outputs": [],
   "source": [
    "name = str(datetime.now()).replace(\" \", \"\").replace(\":\", \"_\")\n",
    "nx.write_gpickle(blocks_graph_test,f'./processed_data_outputs/agglomerated_graph{name}.json')"
   ]
  },
  {
   "cell_type": "code",
   "execution_count": 11,
   "id": "41926308",
   "metadata": {},
   "outputs": [],
   "source": [
    "num_vtds = 1500\n",
    "ideal_population= sum( blocks_graph_test.nodes[x][\"TOTPOP_block\"] for x in blocks_graph_test.nodes())/ num_vtds\n",
    "\n",
    "initial_partition_assignment =gerrychain.tree.recursive_tree_part(blocks_graph_test, \n",
    "                                                            \n",
    "                                                            range(num_vtds), ideal_population,\n",
    "                                                                  \"TOTPOP_block\", epsilon = 2)"
   ]
  },
  {
   "cell_type": "code",
   "execution_count": 12,
   "id": "9cfd420b",
   "metadata": {},
   "outputs": [],
   "source": [
    "import time"
   ]
  },
  {
   "cell_type": "code",
   "execution_count": null,
   "id": "cf95ee57",
   "metadata": {},
   "outputs": [],
   "source": [
    "epsilon = .8\n",
    "gerrychain_steps = 50000\n",
    "steps_in_between = 1000\n",
    "test_step_steps = 2000\n",
    "validate_steps = 20000\n",
    "updaters = {'population': Tally('population'),\n",
    "                    'cut_edges': cut_edges,\n",
    "                    }\n",
    "num_districts = 1500\n",
    "ideal_population= sum( blocks_graph_test.nodes[x][\"TOTPOP_block\"] for x in blocks_graph_test.nodes())/ num_districts\n",
    "\n",
    "for n in blocks_graph_test.nodes():\n",
    "    blocks_graph_test.nodes[n][\"population\"] =  blocks_graph_test.nodes[n][\"TOTPOP_block\"]\n",
    "\n",
    "\n",
    "\n",
    "for n in blocks_graph_test.nodes():\n",
    "    blocks_graph_test.nodes[n][\"district\"] = initial_partition_assignment[n]\n",
    "\n",
    "initial_partition = Partition(blocks_graph_test, assignment='district',  updaters=updaters)\n",
    "\n",
    "\n",
    "popbound = within_percent_of_ideal_population(initial_partition, epsilon)\n",
    "tree_proposal = partial(recom, pop_col = 'population', pop_target=ideal_population, epsilon=epsilon,\n",
    "                            node_repeats=1)\n",
    "\n",
    "\n",
    "exp_chain = MarkovChain(tree_proposal, Validator([]), accept=accept.always_accept,\n",
    "                        initial_state=initial_partition, total_steps=gerrychain_steps)\n",
    "seats_won_for_republicans = []\n",
    "seats_won_for_democrats = []\n",
    "i = 0\n",
    "found_graphs = []\n",
    "for part in exp_chain:\n",
    "    i += 1\n",
    "    if i % int(steps_in_between / 5) == 0:\n",
    "        print(i)\n",
    "    if i % steps_in_between == 0:\n",
    "        contracted = condensce_by_partition(blocks_graph_test, part)\n",
    "        #print(contracted)\n",
    "        while True:\n",
    "            try:\n",
    "                dem_avg, rep_avg, seats_won_for_republicans = gerry(contracted, gerrychain_steps = test_step_steps)\n",
    "                break\n",
    "            except:\n",
    "                print('error, retrying')\n",
    "                time.sleep(1) # to let you escape more easily\n",
    "        if rep_avg > 8 or rep_avg < 7:\n",
    "            dem_avg, rep_avg, seats_won_for_republicans = gerry(contracted, gerrychain_steps = validate_steps)\n",
    "            \n",
    "            if rep_avg > 8 or rep_avg < 7:\n",
    "                found_graphs.append(contracted)\n",
    "                name = str(datetime.now()).replace(\" \", \"\").replace(\":\", \"_\")\n",
    "                pd.Series(seats_won_for_republicans).plot(kind = 'hist', title = 'rep seats')\n",
    "                plt.savefig(f'./metamandered_NC/histogram{name}.png')\n",
    "                plt.close()\n"
   ]
  },
  {
   "cell_type": "code",
   "execution_count": null,
   "id": "59396a9d",
   "metadata": {},
   "outputs": [],
   "source": []
  },
  {
   "cell_type": "code",
   "execution_count": 70,
   "id": "5afd526b",
   "metadata": {},
   "outputs": [
    {
     "data": {
      "image/png": "[encoded data removed]",
      "text/plain": [
       "<Figure size 640x480 with 1 Axes>"
      ]
     },
     "metadata": {},
     "output_type": "display_data"
    }
   ],
   "source": [
    "pops = []\n",
    "for node in contracted.nodes():\n",
    "    if contracted.nodes[node]['dem'] > contracted.nodes[node]['rep'] * 0:\n",
    "        pops.append(contracted.nodes[node]['TOTPOP_block'])\n",
    "pd.Series(pops).plot(kind = 'hist', bins = 30, title = \"VTD pops\")\n",
    "plt.show()"
   ]
  },
  {
   "cell_type": "code",
   "execution_count": 24,
   "id": "d6daa343",
   "metadata": {},
   "outputs": [
    {
     "data": {
      "text/plain": [
       "<Partition [1500 parts]>"
      ]
     },
     "execution_count": 24,
     "metadata": {},
     "output_type": "execute_result"
    }
   ],
   "source": [
    "part"
   ]
  },
  {
   "cell_type": "markdown",
   "id": "4059c9fb",
   "metadata": {},
   "source": [
    "## Do a random walk over VTD partitions with gerrychain..."
   ]
  }
 ],
 "metadata": {
  "kernelspec": {
   "display_name": "Python 3 (ipykernel)",
   "language": "python",
   "name": "python3"
  },
  "language_info": {
   "codemirror_mode": {
    "name": "ipython",
    "version": 3
   },
   "file_extension": ".py",
   "mimetype": "text/x-python",
   "name": "python",
   "nbconvert_exporter": "python",
   "pygments_lexer": "ipython3",
   "version": "3.10.6"
  }
 },
 "nbformat": 4,
 "nbformat_minor": 5
}
