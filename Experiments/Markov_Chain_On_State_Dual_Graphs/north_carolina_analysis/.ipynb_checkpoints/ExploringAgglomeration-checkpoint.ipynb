{
 "cells": [
  {
   "cell_type": "code",
   "execution_count": 1,
   "id": "b308d8b1",
   "metadata": {},
   "outputs": [],
   "source": [
    "import geopandas as gpd\n",
    "import pandas as pd\n",
    "from gerrychain import Graph\n",
    "import random\n",
    "import networkx as nx\n",
    "import numpy as np\n",
    "\n",
    "import facefinder\n",
    "import numpy as np\n",
    "import pandas as pd\n",
    "import random\n",
    "import pickle\n",
    "import csv\n",
    "import copy\n",
    "import statistics\n",
    "import math\n",
    "import gerrychain\n",
    "import networkx\n",
    "import matplotlib as mpl\n",
    "import matplotlib.pyplot as plt\n",
    "import networkx as nx\n",
    "import os\n",
    "import json\n",
    "import argparse\n",
    "from functools import partial\n",
    "from gerrychain.tree import bipartition_tree as bpt\n",
    "from gerrychain import Graph, MarkovChain\n",
    "from gerrychain import accept\n",
    "from gerrychain.constraints import (Validator, single_flip_contiguous,\n",
    "                                    within_percent_of_ideal_population, UpperBound)\n",
    "from gerrychain.proposals import propose_random_flip, propose_chunk_flip\n",
    "from gerrychain.accept import always_accept\n",
    "from gerrychain.updaters import Election, Tally, cut_edges\n",
    "from gerrychain import GeographicPartition\n",
    "from gerrychain.partition import Partition\n",
    "from gerrychain.proposals import recom\n",
    "from gerrychain.metrics import mean_median, efficiency_gap\n",
    "from gerrychain.tree import recursive_tree_part, bipartition_tree_random, PopulatedGraph, random_spanning_tree\n",
    "from collections import defaultdict\n",
    "from datetime import datetime\n",
    "import time\n",
    "from concurrent.futures import ProcessPoolExecutor\n",
    "import logging\n"
   ]
  },
  {
   "cell_type": "markdown",
   "id": "8ba50609",
   "metadata": {},
   "source": [
    "# Helper functions"
   ]
  },
  {
   "cell_type": "code",
   "execution_count": 2,
   "id": "5cb70029",
   "metadata": {},
   "outputs": [],
   "source": [
    "def agglomerate(graph, agg_field = \"dem_prop\", agg_field_threshold = .5,  pop_cap = 6000, \n",
    "                steps = 1000000):\n",
    "    # go through map, agglomerate VTDs that have similar EL16G_GV_D_block proportions, until pop_cap is reached\n",
    "    # also allow merging of zero pop blocks with no condition.\n",
    "    for i in range(steps):\n",
    "        #if i % 100000 == 0:\n",
    "            #print(i)\n",
    "        if i % 10000 == 0:\n",
    "            edges = list(graph.edges())\n",
    "        e = random.choice(edges)\n",
    "        if graph.has_edge(e[0], e[1]):\n",
    "\n",
    "            if  (graph.nodes[e[0]]['TOTPOP_block'] == 0 or\n",
    "                 graph.nodes[e[1]]['TOTPOP_block'] == 0 or\n",
    "                 (graph.nodes[e[0]][agg_field] >  agg_field_threshold and \n",
    "                graph.nodes[e[1]][agg_field] >  agg_field_threshold)):\n",
    "                tot_pop = graph.nodes[e[0]]['TOTPOP_block'] + graph.nodes[e[1]]['TOTPOP_block']\n",
    "                tot_dem = graph.nodes[e[0]]['dem']+ graph.nodes[e[1]]['dem']\n",
    "                tot_rep = graph.nodes[e[0]]['rep'] + graph.nodes[e[1]]['rep']\n",
    "                #print(tot_pop)\n",
    "                if tot_pop < pop_cap:\n",
    "                    graph.nodes[e[0]]['cluster'] = graph.nodes[e[0]]['cluster'] + graph.nodes[e[1]]['cluster'] \n",
    "                    nx.contracted_nodes(graph, e[0], e[1], copy = False, self_loops = False)\n",
    "                    # according to documentation node named e[0] remains\n",
    "                    #print(e)\n",
    "                    graph.nodes[e[0]]['TOTPOP_block'] = tot_pop\n",
    "                    graph.nodes[e[0]]['dem'] = tot_dem\n",
    "                    graph.nodes[e[0]]['rep'] = tot_rep\n",
    "                    if tot_pop !=0 :\n",
    "\n",
    "                        graph.nodes[e[0]]['dem_prop'] = tot_dem / tot_pop\n",
    "                        graph.nodes[e[0]]['rep_prop'] = tot_rep / tot_pop\n",
    "                    else:\n",
    "                        graph.nodes[e[0]]['dem_prop'] = np.nan\n",
    "                        graph.nodes[e[0]]['rep_prop'] = np.nan"
   ]
  },
  {
   "cell_type": "code",
   "execution_count": 3,
   "id": "ad9ed7f7",
   "metadata": {},
   "outputs": [],
   "source": [
    "def create_candidate(blocks_graph,\n",
    "                     target_num_vtds = 4000,\n",
    "                    dem_threshold = .7, dem_pop_cap = 8000, dem_steps = 200000,\n",
    "                    rep_threshold = 0, rep_pop_cap = 2000, rep_steps = 2000,\n",
    "                     final_push_vtd_target_size = 1000,\n",
    "                     save = False,\n",
    "                     print_progress = False\n",
    "                    ):\n",
    "    blocks_graph_test = blocks_graph_in.copy()\n",
    "    if print_progress:\n",
    "        print(f\"Currently has {len(blocks_graph_test)} nodes\")\n",
    "    last = len(blocks_graph_test)\n",
    "    for n in blocks_graph_test.nodes():\n",
    "        blocks_graph_test.nodes[n]['cluster'] = [n]\n",
    "    while len(blocks_graph_test) > target_num_vtds:\n",
    "        agglomerate(graph = blocks_graph_test, agg_field = \"dem_prop\", \n",
    "                    agg_field_threshold = dem_threshold,  pop_cap = dem_pop_cap,  steps = dem_steps)\n",
    "        agglomerate(graph = blocks_graph_test, agg_field = \"rep_prop\",  \n",
    "                    agg_field_threshold = rep_threshold,  pop_cap = rep_pop_cap,  steps = rep_steps)\n",
    "        if print_progress:\n",
    "            print(f\"Currently has {len(blocks_graph_test)} nodes\")\n",
    "        if len(blocks_graph_test) == last:\n",
    "            # some more aggressive joining at this point\n",
    "            agglomerate(graph = blocks_graph_test, agg_field = \"rep_prop\",  \n",
    "                    agg_field_threshold = 0,  pop_cap = final_push_vtd_target_size,  steps = 2000000)\n",
    "        last = len(blocks_graph_test)\n",
    "    if print_progress:\n",
    "        print(\"Finished. Stats:\")    \n",
    "        print(f\"Has {len(blocks_graph_test)} VTDs\")\n",
    "        pops = []\n",
    "        for node in blocks_graph_test.nodes():\n",
    "            if blocks_graph_test.nodes[node]['dem'] > blocks_graph_test.nodes[node]['rep'] * 0:\n",
    "                pops.append(blocks_graph_test.nodes[node]['TOTPOP_block'])\n",
    "        pd.Series(pops).plot(kind = 'hist', bins = 30, title = \"VTD pops\")\n",
    "        plt.show()\n",
    "    name = str(datetime.now()).replace(\" \", \"\").replace(\":\", \"_\")\n",
    "    saved_name = f\"candidate_blocks_graph{name}\"\n",
    "    if save == True:\n",
    "\n",
    "        nx.write_gpickle(blocks_graph_test,f'./processed_data_outputs/{saved_name}.json')\n",
    "    return blocks_graph_test, saved_name"
   ]
  },
  {
   "cell_type": "code",
   "execution_count": 4,
   "id": "7dfb594e",
   "metadata": {},
   "outputs": [],
   "source": [
    "def gerry(blocks_graph_test, gerrychain_steps = 10000, epsilon = .2, plot = False):\n",
    "    updaters = {'population': Tally('population'),\n",
    "                        'cut_edges': cut_edges,\n",
    "                        }\n",
    "    num_districts = 13\n",
    "    ideal_population= sum( blocks_graph_test.nodes[x][\"TOTPOP_block\"] for x in blocks_graph_test.nodes())/ num_districts\n",
    "\n",
    "    for n in blocks_graph_test.nodes():\n",
    "        blocks_graph_test.nodes[n][\"population\"] =  blocks_graph_test.nodes[n][\"TOTPOP_block\"]\n",
    "    \n",
    "        \n",
    "    # accept imported\n",
    "    initial_partition_assignment =gerrychain.tree.recursive_tree_part(blocks_graph_test, \n",
    "                                                            range(num_districts), \n",
    "                                                            ideal_population, \"population\", epsilon)\n",
    "    \n",
    "    for n in blocks_graph_test.nodes():\n",
    "        blocks_graph_test.nodes[n][\"district\"] = initial_partition_assignment[n]\n",
    "    \n",
    "    initial_partition = Partition(blocks_graph_test, assignment='district',  updaters=updaters)\n",
    "    \n",
    "    \n",
    "    popbound = within_percent_of_ideal_population(initial_partition, epsilon)\n",
    "    tree_proposal = partial(recom, pop_col = 'population', pop_target=ideal_population, epsilon=epsilon,\n",
    "                                node_repeats=1)\n",
    "\n",
    "\n",
    "    exp_chain = MarkovChain(tree_proposal, Validator([popbound]), accept=accept.always_accept,\n",
    "                            initial_state=initial_partition, total_steps=gerrychain_steps)\n",
    "    seats_won_for_republicans = []\n",
    "    seats_won_for_democrats = []\n",
    "    \n",
    "    for part in exp_chain:\n",
    "        rep_seats_won = 0\n",
    "        dem_seats_won = 0\n",
    "        for j in range(num_districts):\n",
    "            rep_votes = 0\n",
    "            dem_votes = 0\n",
    "            for n in blocks_graph_test.nodes():\n",
    "                if part.assignment[n] == j:\n",
    "                    rep_votes += blocks_graph_test.nodes[n][\"rep\"]\n",
    "                    dem_votes += blocks_graph_test.nodes[n][\"dem\"]\n",
    "            total_seats_dem = int(dem_votes > rep_votes)\n",
    "            total_seats_rep = int(rep_votes > dem_votes)\n",
    "            rep_seats_won += total_seats_rep\n",
    "            dem_seats_won += total_seats_dem\n",
    "        seats_won_for_republicans.append(rep_seats_won)\n",
    "        seats_won_for_democrats.append(dem_seats_won)\n",
    "\n",
    "    rep_avg = statistics.mean(seats_won_for_republicans)\n",
    "    dem_avg = statistics.mean(seats_won_for_democrats)\n",
    "    \n",
    "    if plot:\n",
    "        print(\"avg rep seats \", rep_avg)\n",
    "        print(\"avg dem seats \", dem_avg)\n",
    "\n",
    "        pd.Series(seats_won_for_republicans).plot(kind = 'hist', title = 'rep seats')\n",
    "        plt.show()\n",
    "        plt.close()\n",
    "    return dem_avg, rep_avg, seats_won_for_republicans"
   ]
  },
  {
   "cell_type": "markdown",
   "id": "f6528d61",
   "metadata": {},
   "source": [
    "# Load"
   ]
  },
  {
   "cell_type": "code",
   "execution_count": 5,
   "id": "55f817e5",
   "metadata": {},
   "outputs": [],
   "source": [
    "blocks_graph_in = Graph.from_json('./processed_data_outputs/blocks_graph.json')"
   ]
  },
  {
   "cell_type": "markdown",
   "id": "8d95412b",
   "metadata": {},
   "source": [
    "# Experiments"
   ]
  },
  {
   "cell_type": "code",
   "execution_count": null,
   "id": "d78996e8",
   "metadata": {},
   "outputs": [],
   "source": [
    "\n",
    "# print('running gerrychain')\n",
    "# while True:\n",
    "#     try:\n",
    "#         dem_avg, rep_avg = gerry(contracted, gerrychain_steps = 2000)\n",
    "#         break\n",
    "#     except:\n",
    "#         print('error, retrying')\n",
    "#         time.sleep(1) # to let you escape more easily\n",
    "# if rep_avg > 9:\n",
    "#     print(f\"success(?) with {saved_name} as {dem_avg}, {rep_avg}\")\n",
    "#     print(\"writing to file\")\n",
    "#     nx.write_gpickle(blocks_graph_test,f'./processed_data_outputs/{saved_name}.json')"
   ]
  },
  {
   "cell_type": "code",
   "execution_count": 9,
   "id": "a7f19710",
   "metadata": {},
   "outputs": [],
   "source": []
  },
  {
   "cell_type": "code",
   "execution_count": null,
   "id": "bd3362c7",
   "metadata": {},
   "outputs": [],
   "source": []
  },
  {
   "cell_type": "markdown",
   "id": "d8ea6e27",
   "metadata": {},
   "source": [
    "## Finding VTD partitions using recursive tree splits..."
   ]
  },
  {
   "cell_type": "code",
   "execution_count": 6,
   "id": "92dc4c17",
   "metadata": {},
   "outputs": [],
   "source": [
    "def condensce_by_partition(graph, part):\n",
    "    # given graph, and label field for each node, return graph where all the nodes with the same lable have been contracted\n",
    "    # also, add up the pops and votes in each block\n",
    "    graph_copy = graph.copy()\n",
    "    \n",
    "    for supernode in part.parts.values():\n",
    "        nodes = list(supernode)\n",
    "        for node in nodes[1:]:\n",
    "            \n",
    "            tot_pop = graph_copy.nodes[nodes[0]]['TOTPOP_block'] + graph_copy.nodes[node]['TOTPOP_block']\n",
    "            tot_dem = graph_copy.nodes[nodes[0]]['dem']+ graph_copy.nodes[node]['dem']\n",
    "            tot_rep = graph_copy.nodes[nodes[0]]['rep'] + graph_copy.nodes[node]['rep']\n",
    "            nx.contracted_nodes(graph_copy, nodes[0], node, copy = False)\n",
    "            graph_copy.nodes[nodes[0]]['TOTPOP_block'] = tot_pop\n",
    "            graph_copy.nodes[nodes[0]]['dem'] = tot_dem\n",
    "            graph_copy.nodes[nodes[0]]['rep'] = tot_rep\n",
    "            \n",
    "    return graph_copy"
   ]
  },
  {
   "cell_type": "code",
   "execution_count": 7,
   "id": "b209ad32",
   "metadata": {},
   "outputs": [
    {
     "name": "stdout",
     "output_type": "stream",
     "text": [
      "Currently has 288987 nodes\n",
      "Currently has 226155 nodes\n",
      "Currently has 190089 nodes\n",
      "Currently has 165526 nodes\n",
      "Currently has 145280 nodes\n",
      "Currently has 126899 nodes\n",
      "Currently has 109753 nodes\n",
      "Currently has 93795 nodes\n",
      "Currently has 79273 nodes\n",
      "Currently has 66424 nodes\n",
      "Currently has 55491 nodes\n",
      "Currently has 46571 nodes\n",
      "Currently has 39532 nodes\n",
      "Currently has 34267 nodes\n",
      "Currently has 30353 nodes\n",
      "Currently has 27627 nodes\n",
      "Finished. Stats:\n",
      "Has 27627 VTDs\n"
     ]
    },
    {
     "data": {
      "image/png": "[encoded data removed]",
      "text/plain": [
       "<Figure size 640x480 with 1 Axes>"
      ]
     },
     "metadata": {},
     "output_type": "display_data"
    }
   ],
   "source": [
    "blocks_graph_test, saved_name = create_candidate(blocks_graph_in,               \n",
    "                    target_num_vtds = 30000,\n",
    "                    dem_threshold = .7, dem_pop_cap = 500, dem_steps = 200000,\n",
    "                    rep_threshold = 0, rep_pop_cap = 500, rep_steps = 20000,\n",
    "                                                 final_push_vtd_target_size = 500,\n",
    "                                                 save = False, print_progress = True)"
   ]
  },
  {
   "cell_type": "code",
   "execution_count": 8,
   "id": "5557ba61",
   "metadata": {},
   "outputs": [],
   "source": [
    "blocks_graph_test_back = blocks_graph_test.copy()\n",
    "# okay with shallow copy"
   ]
  },
  {
   "cell_type": "code",
   "execution_count": 27,
   "id": "c34bcf2b",
   "metadata": {},
   "outputs": [],
   "source": [
    "name = str(datetime.now()).replace(\" \", \"\").replace(\":\", \"_\")\n",
    "nx.write_gpickle(blocks_graph_test,f'./processed_data_outputs/agglomerated_graph{name}.json')"
   ]
  },
  {
   "cell_type": "code",
   "execution_count": 11,
   "id": "5dfdfea3",
   "metadata": {},
   "outputs": [],
   "source": [
    "\n",
    "epsilon = .8\n",
    "gerrychain_steps = 50000\n",
    "steps_in_between = 1000\n",
    "test_step_steps = 2000\n",
    "validate_steps = 20000\n",
    "updaters = {'population': Tally('population'),\n",
    "                    'cut_edges': cut_edges,\n",
    "                    }\n"
   ]
  },
  {
   "cell_type": "code",
   "execution_count": 9,
   "id": "56131a30",
   "metadata": {},
   "outputs": [
    {
     "ename": "NameError",
     "evalue": "name 'updaters' is not defined",
     "output_type": "error",
     "traceback": [
      "\u001b[1;31m---------------------------------------------------------------------------\u001b[0m",
      "\u001b[1;31mNameError\u001b[0m                                 Traceback (most recent call last)",
      "Cell \u001b[1;32mIn [9], line 20\u001b[0m\n\u001b[0;32m     16\u001b[0m \u001b[38;5;28;01mfor\u001b[39;00m n \u001b[38;5;129;01min\u001b[39;00m blocks_graph_test\u001b[38;5;241m.\u001b[39mnodes():\n\u001b[0;32m     17\u001b[0m     blocks_graph_test\u001b[38;5;241m.\u001b[39mnodes[n][\u001b[38;5;124m\"\u001b[39m\u001b[38;5;124mdistrict\u001b[39m\u001b[38;5;124m\"\u001b[39m] \u001b[38;5;241m=\u001b[39m initial_partition_assignment[n]\n\u001b[1;32m---> 20\u001b[0m initial_partition \u001b[38;5;241m=\u001b[39m Partition(blocks_graph_test, assignment\u001b[38;5;241m=\u001b[39m\u001b[38;5;124m'\u001b[39m\u001b[38;5;124mdistrict\u001b[39m\u001b[38;5;124m'\u001b[39m,  updaters\u001b[38;5;241m=\u001b[39mupdaters)\n",
      "\u001b[1;31mNameError\u001b[0m: name 'updaters' is not defined"
     ]
    }
   ],
   "source": [
    "num_vtds = 1500\n",
    "for n in blocks_graph_test.nodes():\n",
    "    blocks_graph_test.nodes[n][\"population\"] =  1\n",
    "    #blocks_graph_test.nodes[n][\"population\"] = round( blocks_graph_test.nodes[n][\"TOTPOP_block\"],0)\n",
    "\n",
    "\n",
    "\n",
    "ideal_population= sum( blocks_graph_test.nodes[x][\"population\"] for x in blocks_graph_test.nodes())/ num_vtds\n",
    "\n",
    "initial_partition_assignment =gerrychain.tree.recursive_tree_part(blocks_graph_test, \n",
    "                                                            \n",
    "                                                            range(num_vtds), ideal_population,\n",
    "                                                                  \"population\", epsilon = .8)\n",
    "\n",
    "\n",
    "for n in blocks_graph_test.nodes():\n",
    "    blocks_graph_test.nodes[n][\"district\"] = initial_partition_assignment[n]\n",
    "\n",
    "    \n",
    "initial_partition = Partition(blocks_graph_test, assignment='district',  updaters=updaters)\n",
    "\n"
   ]
  },
  {
   "cell_type": "code",
   "execution_count": null,
   "id": "d376df0b",
   "metadata": {},
   "outputs": [],
   "source": []
  },
  {
   "cell_type": "code",
   "execution_count": 12,
   "id": "1909cd0b",
   "metadata": {},
   "outputs": [],
   "source": []
  },
  {
   "cell_type": "markdown",
   "id": "808f4600",
   "metadata": {},
   "source": [
    "The reason why the below is crashing is because gerrychain can't handle the cast of two blocks of a single noe each being merged."
   ]
  },
  {
   "cell_type": "code",
   "execution_count": null,
   "id": "e2d0a8f4",
   "metadata": {},
   "outputs": [],
   "source": [
    "epsilon = .8\n",
    "gerrychain_steps = 50000\n",
    "steps_in_between = 1000\n",
    "test_step_steps = 2000\n",
    "validate_steps = 20000\n",
    "\n",
    "current_part = initial_partition\n",
    "seats_won_for_republicans = []\n",
    "seats_won_for_democrats = []\n",
    "i = 0\n",
    "\n",
    "# for i in range(1000):\n",
    "\n",
    "\n",
    "initial_partition = current_part\n",
    "popbound = within_percent_of_ideal_population(initial_partition, epsilon)\n",
    "tree_proposal = partial(recom, pop_col = 'population', pop_target=ideal_population, epsilon=epsilon,\n",
    "                            node_repeats=1)\n",
    "\n",
    "\n",
    "exp_chain = MarkovChain(tree_proposal, Validator([]), accept=accept.always_accept,\n",
    "                        initial_state=initial_partition, total_steps=gerrychain_steps)\n",
    "\n",
    "found_graphs = []\n",
    "print('starting chain')\n",
    "while i < gerrychain_steps:\n",
    "    try:\n",
    "        for part in exp_chain:\n",
    "            i += 1\n",
    "            if i % int(steps_in_between / 5) == 0:\n",
    "                print(i)\n",
    "            if i % steps_in_between == 0:\n",
    "                print('contracting')\n",
    "                contracted = condensce_by_partition(blocks_graph_test, part)\n",
    "                #print(contracted)\n",
    "                while True:\n",
    "                    try:\n",
    "                        print(\"running test gerry\")\n",
    "                        dem_avg, rep_avg, seats_won_for_republicans = gerry(contracted, \n",
    "                                                                            gerrychain_steps = test_step_steps,\n",
    "                                                                            plot = True)\n",
    "                        break\n",
    "                    except:\n",
    "                        print('error, retrying')\n",
    "                        time.sleep(1) # to let you escape more easily\n",
    "                print(f\"Test  step found, {dem_avg} , {rep_avg}\")\n",
    "                if rep_avg > 8 or rep_avg < 7.5:\n",
    "                    while True:\n",
    "                        try:\n",
    "                            print(\"running validate gerry\")\n",
    "                            dem_avg, rep_avg, seats_won_for_republicans = gerry(contracted, \n",
    "                                                                                gerrychain_steps = validate_steps,\n",
    "                                                                               plot = True)\n",
    "                            break\n",
    "                        except:\n",
    "                            print('error, retrying')\n",
    "                            time.sleep(1) # to let you escape more easily\n",
    "                    print(f\"Validate  step found, {dem_avg} , {rep_avg}\")\n",
    "                    if rep_avg >= 8 or rep_avg <= 7.5:\n",
    "                        found_graphs.append(contracted)\n",
    "                        name = str(datetime.now()).replace(\" \", \"\").replace(\":\", \"_\")\n",
    "                        pd.Series(seats_won_for_republicans).plot(kind = 'hist', title = 'rep seats')\n",
    "                        plt.savefig(f'./metamandered_NC/histogram{name}.png')\n",
    "                        plt.close()\n",
    "            current_part = part\n",
    "    except:\n",
    "        time.sleep(1)\n",
    "        print(\"restarting from last good partition\")\n"
   ]
  },
  {
   "cell_type": "code",
   "execution_count": 44,
   "id": "52c01748",
   "metadata": {},
   "outputs": [],
   "source": [
    "dem_avg, rep_avg, seats_won_for_republicans = gerry(contracted, \n",
    "                                                    gerrychain_steps = validate_steps,\n",
    "                                                   plot = False)"
   ]
  },
  {
   "cell_type": "code",
   "execution_count": 40,
   "id": "632017c3",
   "metadata": {},
   "outputs": [],
   "source": [
    "dem_avg, rep_avg, seats_won_for_republicans = gerry(contracted, \n",
    "                                                    gerrychain_steps = test_step_steps,\n",
    "                                                    plot = False)"
   ]
  },
  {
   "cell_type": "code",
   "execution_count": 44,
   "id": "24aea3f5",
   "metadata": {},
   "outputs": [
    {
     "data": {
      "image/png": "[encoded data removed]",
      "text/plain": [
       "<Figure size 640x480 with 1 Axes>"
      ]
     },
     "metadata": {},
     "output_type": "display_data"
    }
   ],
   "source": [
    "pops = []\n",
    "for node in contracted.nodes():\n",
    "    if contracted.nodes[node]['dem'] > contracted.nodes[node]['rep'] * 0:\n",
    "        pops.append(contracted.nodes[node]['TOTPOP_block'])\n",
    "pd.Series(pops).plot(kind = 'hist', bins = 30, title = \"VTD pops\")\n",
    "plt.show()"
   ]
  },
  {
   "cell_type": "code",
   "execution_count": null,
   "id": "fcfd3d75",
   "metadata": {},
   "outputs": [],
   "source": []
  },
  {
   "cell_type": "markdown",
   "id": "3935767e",
   "metadata": {},
   "source": [
    "## Do a random walk over VTD partitions with gerrychain..."
   ]
  },
  {
   "cell_type": "code",
   "execution_count": null,
   "id": "c54f0bce",
   "metadata": {},
   "outputs": [],
   "source": []
  },
  {
   "cell_type": "code",
   "execution_count": null,
   "id": "1009c315",
   "metadata": {},
   "outputs": [],
   "source": []
  },
  {
   "cell_type": "code",
   "execution_count": null,
   "id": "e6b258b2",
   "metadata": {},
   "outputs": [],
   "source": []
  },
  {
   "cell_type": "markdown",
   "id": "723428fe",
   "metadata": {},
   "source": [
    "Back to metamandering around idea:"
   ]
  },
  {
   "cell_type": "code",
   "execution_count": 15,
   "id": "e622a683",
   "metadata": {},
   "outputs": [
    {
     "name": "stderr",
     "output_type": "stream",
     "text": [
      "\n",
      "KeyboardInterrupt\n",
      "\n"
     ]
    }
   ],
   "source": [
    "num_vtds = 13\n",
    "for n in blocks_graph_test.nodes():\n",
    "    blocks_graph_test.nodes[n][\"population\"] =  1\n",
    "    #blocks_graph_test.nodes[n][\"population\"] = round( blocks_graph_test.nodes[n][\"TOTPOP_block\"],0)\n",
    "\n",
    "\n",
    "\n",
    "ideal_population= sum( blocks_graph_test.nodes[x][\"population\"] for x in blocks_graph_test.nodes())/ num_vtds\n",
    "\n",
    "initial_partition_assignment =gerrychain.tree.recursive_tree_part(blocks_graph_test, \n",
    "                                                            \n",
    "                                                            range(num_vtds), ideal_population,\n",
    "                                                                  \"population\", epsilon = .8)\n",
    "\n",
    "\n",
    "for n in blocks_graph_test.nodes():\n",
    "    blocks_graph_test.nodes[n][\"district\"] = initial_partition_assignment[n]\n",
    "\n",
    "    \n",
    "initial_partition = Partition(blocks_graph_test, assignment='district',  updaters=updaters)\n",
    "\n",
    "\n",
    "\n",
    "\n",
    "epsilon = .8\n",
    "gerrychain_steps = 50000\n",
    "steps_in_between = 1000\n",
    "test_step_steps = 2000\n",
    "validate_steps = 20000\n",
    "\n",
    "current_part = initial_partition\n",
    "seats_won_for_republicans = []\n",
    "seats_won_for_democrats = []\n",
    "i = 0\n",
    "\n",
    "# for i in range(1000):\n",
    "\n",
    "\n",
    "initial_partition = current_part\n",
    "popbound = within_percent_of_ideal_population(initial_partition, epsilon)\n",
    "tree_proposal = partial(recom, pop_col = 'population', pop_target=ideal_population, epsilon=epsilon,\n",
    "                            node_repeats=1)\n",
    "\n",
    "\n",
    "exp_chain = MarkovChain(tree_proposal, Validator([]), accept=accept.always_accept,\n",
    "                        initial_state=initial_partition, total_steps=gerrychain_steps)\n",
    "\n"
   ]
  },
  {
   "cell_type": "code",
   "execution_count": 20,
   "id": "5b1033fc",
   "metadata": {},
   "outputs": [
    {
     "name": "stdout",
     "output_type": "stream",
     "text": [
      "in chain\n",
      "finished\n"
     ]
    }
   ],
   "source": [
    "gerrychain_steps = 10000\n",
    "epsilon = .1\n",
    "\n",
    "updaters = {'population': Tally('population'),\n",
    "                    'cut_edges': cut_edges,\n",
    "                    }\n",
    "num_districts = 13\n",
    "ideal_population= sum( blocks_graph_test.nodes[x][\"TOTPOP_block\"] for x in blocks_graph_test.nodes())/ num_districts\n",
    "\n",
    "for n in blocks_graph_test.nodes():\n",
    "    blocks_graph_test.nodes[n][\"population\"] =  blocks_graph_test.nodes[n][\"TOTPOP_block\"]\n",
    "\n",
    "\n",
    "# accept imported\n",
    "initial_partition_assignment =gerrychain.tree.recursive_tree_part(blocks_graph_test, \n",
    "                                                        range(num_districts), \n",
    "                                                        ideal_population, \"population\", epsilon)\n",
    "\n",
    "for n in blocks_graph_test.nodes():\n",
    "    blocks_graph_test.nodes[n][\"district\"] = initial_partition_assignment[n]\n",
    "\n",
    "initial_partition = Partition(blocks_graph_test, assignment='district',  updaters=updaters)\n",
    "\n",
    "\n",
    "popbound = within_percent_of_ideal_population(initial_partition, epsilon)\n",
    "tree_proposal = partial(recom, pop_col = 'population', pop_target=ideal_population, epsilon=epsilon,\n",
    "                            node_repeats=1)\n",
    "\n",
    "\n",
    "exp_chain = MarkovChain(tree_proposal, Validator([popbound]), accept=accept.always_accept,\n",
    "                        initial_state=initial_partition, total_steps=gerrychain_steps)\n",
    "seats_won_for_republicans = []\n",
    "seats_won_for_democrats = []\n",
    "print('in chain')\n",
    "for part in exp_chain:\n",
    "    rep_seats_won = 0\n",
    "    dem_seats_won = 0\n",
    "    for j in range(num_districts):\n",
    "        rep_votes = 0\n",
    "        dem_votes = 0\n",
    "        for n in blocks_graph_test.nodes():\n",
    "            if part.assignment[n] == j:\n",
    "                rep_votes += blocks_graph_test.nodes[n][\"rep\"]\n",
    "                dem_votes += blocks_graph_test.nodes[n][\"dem\"]\n",
    "        total_seats_dem = int(dem_votes > rep_votes)\n",
    "        total_seats_rep = int(rep_votes > dem_votes)\n",
    "        rep_seats_won += total_seats_rep\n",
    "        dem_seats_won += total_seats_dem\n",
    "    seats_won_for_republicans.append(rep_seats_won)\n",
    "    seats_won_for_democrats.append(dem_seats_won)\n",
    "    if rep_seats_won >= 9:\n",
    "        optimized_part = part\n",
    "        print('finished')\n",
    "        break"
   ]
  },
  {
   "cell_type": "code",
   "execution_count": null,
   "id": "82a6141e",
   "metadata": {},
   "outputs": [],
   "source": [
    "    for supernode in part.parts.values():\n",
    "        nodes = list(supernode)\n",
    "        for node in nodes[1:]:\n",
    "            \n",
    "            tot_pop = graph_copy.nodes[nodes[0]]['TOTPOP_block'] + graph_copy.nodes[node]['TOTPOP_block']\n",
    "            tot_dem = graph_copy.nodes[nodes[0]]['dem']+ graph_copy.nodes[node]['dem']\n",
    "            tot_rep = graph_copy.nodes[nodes[0]]['rep'] + graph_copy.nodes[node]['rep']\n",
    "            nx.contracted_nodes(graph_copy, nodes[0], node, copy = False)\n",
    "            graph_copy.nodes[nodes[0]]['TOTPOP_block'] = tot_pop\n",
    "            graph_copy.nodes[nodes[0]]['dem'] = tot_dem\n",
    "            graph_copy.nodes[nodes[0]]['rep'] = tot_rep"
   ]
  },
  {
   "cell_type": "code",
   "execution_count": 38,
   "id": "a726ae0f",
   "metadata": {},
   "outputs": [],
   "source": [
    "def metamander_around(part, graph):\n",
    "    graph_copy = graph.copy()\n",
    "    list_of_blocks = [set(x) for x in part.parts.values()]\n",
    "    while len(graph) >= 2000:\n",
    "        print(len(graph))\n",
    "        for supernode in list_of_blocks:\n",
    "            nodes = list(supernode)\n",
    "            for node in nodes[1:]:\n",
    "                if random.random() < .01:\n",
    "                    supernode.remove(node)\n",
    "                    tot_pop = graph_copy.nodes[nodes[0]]['TOTPOP_block'] + graph_copy.nodes[node]['TOTPOP_block']\n",
    "                    tot_dem = graph_copy.nodes[nodes[0]]['dem']+ graph_copy.nodes[node]['dem']\n",
    "                    tot_rep = graph_copy.nodes[nodes[0]]['rep'] + graph_copy.nodes[node]['rep']\n",
    "                    nx.contracted_nodes(graph_copy, nodes[0], node, copy = False)\n",
    "                    graph_copy.nodes[nodes[0]]['TOTPOP_block'] = tot_pop\n",
    "                    graph_copy.nodes[nodes[0]]['dem'] = tot_dem\n",
    "                    graph_copy.nodes[nodes[0]]['rep'] = tot_rep\n",
    "    return graph_copy"
   ]
  },
  {
   "cell_type": "code",
   "execution_count": null,
   "id": "cbd9ec62",
   "metadata": {},
   "outputs": [],
   "source": [
    "metamandered_graph = metamander_around(optimized_part, blocks_graph_test)"
   ]
  },
  {
   "cell_type": "code",
   "execution_count": null,
   "id": "78410805",
   "metadata": {},
   "outputs": [],
   "source": [
    "gerry(metamandered_graph, gerrychain_steps = 20000, plot = True)"
   ]
  },
  {
   "cell_type": "code",
   "execution_count": null,
   "id": "1e656402",
   "metadata": {},
   "outputs": [],
   "source": []
  },
  {
   "cell_type": "code",
   "execution_count": null,
   "id": "3f3eb8c2",
   "metadata": {},
   "outputs": [],
   "source": []
  }
 ],
 "metadata": {
  "kernelspec": {
   "display_name": "Python 3 (ipykernel)",
   "language": "python",
   "name": "python3"
  },
  "language_info": {
   "codemirror_mode": {
    "name": "ipython",
    "version": 3
   },
   "file_extension": ".py",
   "mimetype": "text/x-python",
   "name": "python",
   "nbconvert_exporter": "python",
   "pygments_lexer": "ipython3",
   "version": "3.10.6"
  }
 },
 "nbformat": 4,
 "nbformat_minor": 5
}
