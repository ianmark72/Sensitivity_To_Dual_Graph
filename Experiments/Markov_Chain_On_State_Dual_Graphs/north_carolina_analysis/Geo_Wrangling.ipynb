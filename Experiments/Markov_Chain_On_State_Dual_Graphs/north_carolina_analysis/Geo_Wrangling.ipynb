{
 "cells": [
  {
   "cell_type": "code",
   "execution_count": 146,
   "metadata": {},
   "outputs": [],
   "source": [
    "import geopandas as gpd\n",
    "import pandas as pd\n",
    "#from gerrychain import Graph, Partition, Election\n",
    "#from gerrychain.updaters import Tally, cut_edges\n",
    "\n",
    "\n",
    "# vtd['vote_difference'] = vtd.EL16G_GV_R - vtd.EL16G_GV_D\n",
    "# vtd.plot(\"vote_difference\", legend = True, figsize = (20,20) )\n",
    "# vtd_county.plot(\"EL12G_GV_R\", legend = True, figsize = (10,10) )\n",
    "#vtd_county = vtd.dissolve(by='County', aggfunc='sum')\n",
    "#vtd_county.to_file(\"./data/NC_county_merged.json\", driver=\"GeoJSON\")  \n",
    "#.to_crs(\"EPSG:4269\")\n"
   ]
  },
  {
   "cell_type": "code",
   "execution_count": 179,
   "metadata": {},
   "outputs": [],
   "source": [
    "# vtd = gpd.read_file(\"./data/NC_VTD.shp\").to_crs(\"ESRI:103500\")\n",
    "# bg = gpd.read_file(\"./data/tl_2016_37_bg.shp\").to_crs(\"ESRI:103500\")\n",
    "# blocks = gpd.read_file(\"./data/blocks/tl_2016_37_tabblock10.shp\").to_crs(\"ESRI:103500\")"
   ]
  },
  {
   "cell_type": "code",
   "execution_count": 57,
   "metadata": {},
   "outputs": [],
   "source": [
    "vtd = gpd.read_file(\"./data/NC_VTD.shp\").to_crs(\"EPSG:4269\")\n",
    "bg = gpd.read_file(\"./data/tl_2016_37_bg.shp\").to_crs(\"EPSG:4269\")\n",
    "blocks = gpd.read_file(\"./data/blocks/tl_2016_37_tabblock10.shp\").to_crs(\"EPSG:4269\")"
   ]
  },
  {
   "cell_type": "code",
   "execution_count": 55,
   "metadata": {},
   "outputs": [],
   "source": []
  },
  {
   "cell_type": "code",
   "execution_count": null,
   "metadata": {},
   "outputs": [],
   "source": [
    "joined_within = gpd.sjoin(blocks, vtd, how = 'left', predicate = 'within' )\n",
    "joined_within[[\"GEOID10\", \"VTD\"]].groupby(\"GEOID10\").agg('count').value_counts()"
   ]
  },
  {
   "cell_type": "code",
   "execution_count": 126,
   "metadata": {},
   "outputs": [
    {
     "data": {
      "text/plain": [
       "VTD\n",
       "1      201318\n",
       "2       73931\n",
       "3       12086\n",
       "4        1524\n",
       "5         112\n",
       "6          13\n",
       "7           3\n",
       "dtype: int64"
      ]
     },
     "metadata": {},
     "output_type": "display_data"
    }
   ],
   "source": [
    "# geo_table = blocks\n",
    "# geo_id = \"GEOID10\"\n",
    "i = 0\n",
    "geo_table = [ blocks, bg][i]\n",
    "geo_id = [\"GEOID10\", \"GEOID\"][i]\n",
    "\n",
    "joined = gpd.sjoin(geo_table, vtd, how = 'left',  predicate = 'intersects' )\n",
    "mapping = joined[[geo_id, \"VTD\"]]\n",
    "\n",
    "display(joined[[geo_id, \"VTD\"]].groupby(geo_id).agg('count').value_counts())\n",
    "\n"
   ]
  },
  {
   "cell_type": "code",
   "execution_count": 178,
   "metadata": {},
   "outputs": [],
   "source": [
    "#counts = joined[[geo_id, \"VTD\"]].groupby(geo_id).agg('count').rename(columns = {\"VTD\" : \"NUM INTERSECTIONS\"})\n",
    "#m = joined.merge(counts, left_on = geo_id, right_index = True)\n",
    "#m[m[\"NUM INTERSECTIONS\"] <= 5].plot(\"NUM INTERSECTIONS\", legend = True)"
   ]
  },
  {
   "cell_type": "code",
   "execution_count": 176,
   "metadata": {},
   "outputs": [],
   "source": [
    "# Intersect geos with VTDs, compute area ratios\n",
    "geo_table_with_map = geo_table.merge(mapping)#.merge(vtd[[\"VTD\", \"geometry\"]], suffixes = ('_block', '_vt') )\n",
    "geo_with_vtd = geo_table_with_map.merge(vtd,\n",
    "                                                      left_on = \"VTD\", right_on = \"VTD\",\n",
    "                                                      suffixes = ('_geo', '_vtd'))\n",
    "\n",
    "geo_geos = gpd.GeoSeries(geo_with_vtd.geometry_geo).to_crs(\"ESRI:103500\")\n"
   ]
  },
  {
   "cell_type": "code",
   "execution_count": 177,
   "metadata": {},
   "outputs": [],
   "source": [
    "geo_with_vtd['geo_intersect'] = geo_geos.intersection(gpd.GeoSeries(geo_with_vtd.geometry_vtd).to_crs(\"ESRI:103500\"))\n",
    "\n",
    "geo_with_vtd['geo_area'] = geo_geos.area\n",
    "geo_with_vtd['intersect_area'] = gpd.GeoSeries(geo_with_vtd.geo_intersect).to_crs(\"ESRI:103500\").area\n",
    "geo_with_vtd['area_proportion'] =  geo_with_vtd['intersect_area'] / geo_with_vtd['geo_area']"
   ]
  },
  {
   "cell_type": "code",
   "execution_count": 138,
   "metadata": {},
   "outputs": [
    {
     "data": {
      "text/plain": [
       "VTD\n",
       "1      288215\n",
       "2         772\n",
       "dtype: int64"
      ]
     },
     "execution_count": 138,
     "metadata": {},
     "output_type": "execute_result"
    }
   ],
   "source": [
    "geo_with_vtd[geo_with_vtd.area_proportion >= .2][[geo_id, \"VTD\"]].groupby(geo_id).agg('count').value_counts()"
   ]
  },
  {
   "cell_type": "code",
   "execution_count": 143,
   "metadata": {},
   "outputs": [],
   "source": [
    "#geo_with_vtd.rename(columns = {'geometry_geo' : \"geometry\" } ).plot(\"area_proportion\", legend = True)"
   ]
  },
  {
   "cell_type": "markdown",
   "metadata": {},
   "source": [
    "# Adding in population level blocks"
   ]
  },
  {
   "cell_type": "code",
   "execution_count": 147,
   "metadata": {},
   "outputs": [],
   "source": [
    "pops = pd.read_csv('./data/us2016_block_pops.csv')"
   ]
  },
  {
   "cell_type": "code",
   "execution_count": 152,
   "metadata": {},
   "outputs": [],
   "source": [
    "pops['block_fips'] = pops.block_fips.astype(\"str\")"
   ]
  },
  {
   "cell_type": "code",
   "execution_count": 180,
   "metadata": {},
   "outputs": [],
   "source": [
    "geo_with_pop = geo_with_vtd.merge(pops, left_on = geo_id, right_on = 'block_fips',)"
   ]
  },
  {
   "cell_type": "code",
   "execution_count": 190,
   "metadata": {},
   "outputs": [],
   "source": [
    "geo_with_pop.drop(columns = [\"geometry_geo\", \"geometry_vtd\", \"geo_intersect\"]).to_csv(\"geo_with_pop.csv\")"
   ]
  },
  {
   "cell_type": "code",
   "execution_count": 181,
   "metadata": {
    "scrolled": true
   },
   "outputs": [],
   "source": []
  },
  {
   "cell_type": "code",
   "execution_count": 204,
   "metadata": {},
   "outputs": [
    {
     "data": {
      "text/plain": [
       "Index(['ALAND10', 'AWATER10', 'VTD', 'County', 'VTD_Key', 'VTD_Name',\n",
       "       'PL10AA_TOT', 'PL10VA_TOT', 'EL08G_GV_D', 'EL08G_GV_R', 'EL08G_GV_L',\n",
       "       'EL08G_GV_T', 'EL08G_USS_', 'EL08G_US_1', 'EL08G_US_2', 'EL08G_US_3',\n",
       "       'EL08G_US_4', 'EL10G_USS_', 'EL10G_US_1', 'EL10G_US_2', 'EL10G_US_3',\n",
       "       'EL10G_US_4', 'EL12G_GV_D', 'EL12G_GV_R', 'EL12G_GV_L', 'EL12G_GV_W',\n",
       "       'EL12G_GV_1', 'EL12G_GV_T', 'EL14G_USS_', 'EL14G_US_1', 'EL14G_US_2',\n",
       "       'EL14G_US_3', 'EL14G_US_4', 'Shape_Leng', 'Shape_Area', 'EL12G_PR_D',\n",
       "       'EL12G_PR_R', 'EL12G_PR_L', 'EL12G_PR_W', 'EL12G_PR_1', 'EL12G_PR_T',\n",
       "       'EL16G_PR_R', 'EL16G_PR_D', 'EL16G_PR_L', 'EL16G_PR_W', 'EL16G_PR_T',\n",
       "       'EL16G_USS_', 'EL16G_US_1', 'EL16G_US_2', 'EL16G_US_3', 'EL16G_GV_D',\n",
       "       'EL16G_GV_R', 'EL16G_GV_L', 'EL16G_GV_T', 'BPOP', 'nBPOP', 'judge',\n",
       "       'newplan', 'oldplan', 'TOTPOP', 'NH_WHITE', 'NH_BLACK', 'NH_AMIN',\n",
       "       'NH_ASIAN', 'NH_NHPI', 'NH_OTHER', 'NH_2MORE', 'HISP', 'H_WHITE',\n",
       "       'H_BLACK', 'H_AMIN', 'H_ASIAN', 'H_NHPI', 'H_OTHER', 'H_2MORE', 'VAP',\n",
       "       'HVAP', 'WVAP', 'BVAP', 'AMINVAP', 'ASIANVAP', 'NHPIVAP', 'OTHERVAP',\n",
       "       '2MOREVAP', 'geometry'],\n",
       "      dtype='object')"
      ]
     },
     "execution_count": 204,
     "metadata": {},
     "output_type": "execute_result"
    }
   ],
   "source": [
    "vtd.columns"
   ]
  },
  {
   "cell_type": "code",
   "execution_count": 195,
   "metadata": {},
   "outputs": [],
   "source": [
    "geo_with_pop['pop_proportion'] = geo_with_pop.pop2016 /  geo_with_pop.TOTPOP"
   ]
  },
  {
   "cell_type": "code",
   "execution_count": 201,
   "metadata": {},
   "outputs": [
    {
     "data": {
      "text/plain": [
       "127114    0.000000\n",
       "112671    0.000000\n",
       "274810    0.000000\n",
       "112668    0.000000\n",
       "216513    0.000000\n",
       "            ...   \n",
       "208233    0.733688\n",
       "19681     0.789588\n",
       "312766    0.796923\n",
       "255614    0.804348\n",
       "55260     0.935275\n",
       "Name: pop_proportion, Length: 290551, dtype: float64"
      ]
     },
     "execution_count": 201,
     "metadata": {},
     "output_type": "execute_result"
    }
   ],
   "source": [
    "# This filtering is necessary, since otherwise we end up with blocks that have more population than the VTD they represent.\n",
    "geo_with_pop[geo_with_pop.area_proportion >= .1].pop_proportion.sort_values()"
   ]
  },
  {
   "cell_type": "code",
   "execution_count": null,
   "metadata": {},
   "outputs": [],
   "source": [
    "geo_with_pop['pop_proportion']"
   ]
  }
 ],
 "metadata": {
  "kernelspec": {
   "display_name": "Python 3 (ipykernel)",
   "language": "python",
   "name": "python3"
  },
  "language_info": {
   "codemirror_mode": {
    "name": "ipython",
    "version": 3
   },
   "file_extension": ".py",
   "mimetype": "text/x-python",
   "name": "python",
   "nbconvert_exporter": "python",
   "pygments_lexer": "ipython3",
   "version": "3.10.6"
  }
 },
 "nbformat": 4,
 "nbformat_minor": 4
}
