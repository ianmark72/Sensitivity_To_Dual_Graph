{
 "cells": [
  {
   "cell_type": "code",
   "execution_count": null,
   "id": "6e3ae643",
   "metadata": {},
   "outputs": [],
   "source": [
    "import geopandas as gpd\n",
    "import pandas as pd\n",
    "from gerrychain import Graph\n",
    "\n",
    "#from gerrychain import Graph, Partition, Election\n",
    "#from gerrychain.updaters import Tally, cut_edges\n",
    "\n",
    "\n",
    "# vtd['vote_difference'] = vtd.EL16G_GV_R - vtd.EL16G_GV_D\n",
    "# vtd.plot(\"vote_difference\", legend = True, figsize = (20,20) )\n",
    "# vtd_county.plot(\"EL12G_GV_R\", legend = True, figsize = (10,10) )\n",
    "#vtd_county = vtd.dissolve(by='County', aggfunc='sum')\n",
    "#vtd_county.to_file(\"./data/NC_county_merged.json\", driver=\"GeoJSON\")  "
   ]
  },
  {
   "cell_type": "code",
   "execution_count": null,
   "id": "42abd35e",
   "metadata": {},
   "outputs": [],
   "source": [
    "vtd = gpd.read_file(\"./data/NC_VTD.shp\").to_crs(\"EPSG:4269\")\n",
    "bg = gpd.read_file(\"./data/tl_2016_37_bg.shp\").to_crs(\"EPSG:4269\")\n",
    "blocks = gpd.read_file(\"./data/blocks/tl_2016_37_tabblock10.shp\").to_crs(\"EPSG:4269\")"
   ]
  },
  {
   "cell_type": "code",
   "execution_count": null,
   "id": "ed4c89ce",
   "metadata": {},
   "outputs": [],
   "source": [
    "#joined_within = gpd.sjoin(blocks, vtd, how = 'left', predicate = 'within' )\n",
    "#joined_within[[\"GEOID10\", \"VTD\"]].groupby(\"GEOID10\").agg('count').value_counts()\n",
    "\n",
    "i = 0 # only change to 1 to experiment with block groups;\n",
    "geo_table = [ blocks, bg][i]\n",
    "geo_id = [\"GEOID10\", \"GEOID\"][i]\n",
    "\n",
    "joined = gpd.sjoin(geo_table, vtd, how = 'left',  predicate = 'intersects' )\n",
    "mapping = joined[[geo_id, \"VTD\"]]"
   ]
  },
  {
   "cell_type": "markdown",
   "id": "f7455c44",
   "metadata": {},
   "source": [
    "## Properties of VTDs"
   ]
  },
  {
   "cell_type": "markdown",
   "id": "a5eb8210",
   "metadata": {},
   "source": [
    "Some questions: \n",
    "\n",
    "What are the general populations for VTDs?"
   ]
  },
  {
   "cell_type": "code",
   "execution_count": 38,
   "id": "e2949099",
   "metadata": {
    "scrolled": true
   },
   "outputs": [
    {
     "data": {
      "text/plain": [
       "<AxesSubplot: title={'center': 'Histogram of VTD populations in NC 2016'}, ylabel='Frequency'>"
      ]
     },
     "execution_count": 38,
     "metadata": {},
     "output_type": "execute_result"
    },
    {
     "data": {
      "image/png": "[encoded data removed]",
      "text/plain": [
       "<Figure size 640x480 with 1 Axes>"
      ]
     },
     "metadata": {},
     "output_type": "display_data"
    }
   ],
   "source": [
    "vtd.TOTPOP.plot(kind = 'hist', bins = 20, title = \"Histogram of VTD populations in NC 2016\")"
   ]
  },
  {
   "cell_type": "code",
   "execution_count": 108,
   "id": "1957278c",
   "metadata": {
    "scrolled": false
   },
   "outputs": [
    {
     "data": {
      "text/plain": [
       "count     2692.000000\n",
       "mean      3542.155646\n",
       "std       2459.640116\n",
       "min         37.000000\n",
       "25%       2047.750000\n",
       "50%       3106.000000\n",
       "75%       4433.000000\n",
       "max      34282.000000\n",
       "Name: TOTPOP, dtype: float64"
      ]
     },
     "execution_count": 108,
     "metadata": {},
     "output_type": "execute_result"
    }
   ],
   "source": [
    "vtd.TOTPOP.describe()"
   ]
  },
  {
   "cell_type": "markdown",
   "id": "93c6eb20",
   "metadata": {},
   "source": [
    "How many VTDs?"
   ]
  },
  {
   "cell_type": "code",
   "execution_count": 133,
   "id": "c0aa45d0",
   "metadata": {},
   "outputs": [
    {
     "data": {
      "text/plain": [
       "2692"
      ]
     },
     "execution_count": 133,
     "metadata": {},
     "output_type": "execute_result"
    }
   ],
   "source": [
    "len(vtd)"
   ]
  },
  {
   "cell_type": "markdown",
   "id": "fd72bab1",
   "metadata": {},
   "source": [
    "So, loosely speaking, we are looking for VTDs of total pop 2000-5000 , and about 2500 of them.\n",
    "\n",
    "Also, in terms of the number of blocks that tend to intersect (or make up) VTDs:"
   ]
  },
  {
   "cell_type": "code",
   "execution_count": 46,
   "id": "37c1ba91",
   "metadata": {},
   "outputs": [
    {
     "data": {
      "text/html": [
       "<div>\n",
       "<style scoped>\n",
       "    .dataframe tbody tr th:only-of-type {\n",
       "        vertical-align: middle;\n",
       "    }\n",
       "\n",
       "    .dataframe tbody tr th {\n",
       "        vertical-align: top;\n",
       "    }\n",
       "\n",
       "    .dataframe thead th {\n",
       "        text-align: right;\n",
       "    }\n",
       "</style>\n",
       "<table border=\"1\" class=\"dataframe\">\n",
       "  <thead>\n",
       "    <tr style=\"text-align: right;\">\n",
       "      <th></th>\n",
       "      <th>GEOID10</th>\n",
       "    </tr>\n",
       "  </thead>\n",
       "  <tbody>\n",
       "    <tr>\n",
       "      <th>count</th>\n",
       "      <td>2692.000000</td>\n",
       "    </tr>\n",
       "    <tr>\n",
       "      <th>mean</th>\n",
       "      <td>145.688336</td>\n",
       "    </tr>\n",
       "    <tr>\n",
       "      <th>std</th>\n",
       "      <td>87.995400</td>\n",
       "    </tr>\n",
       "    <tr>\n",
       "      <th>min</th>\n",
       "      <td>23.000000</td>\n",
       "    </tr>\n",
       "    <tr>\n",
       "      <th>25%</th>\n",
       "      <td>88.000000</td>\n",
       "    </tr>\n",
       "    <tr>\n",
       "      <th>50%</th>\n",
       "      <td>128.000000</td>\n",
       "    </tr>\n",
       "    <tr>\n",
       "      <th>75%</th>\n",
       "      <td>182.000000</td>\n",
       "    </tr>\n",
       "    <tr>\n",
       "      <th>max</th>\n",
       "      <td>1713.000000</td>\n",
       "    </tr>\n",
       "  </tbody>\n",
       "</table>\n",
       "</div>"
      ],
      "text/plain": [
       "           GEOID10\n",
       "count  2692.000000\n",
       "mean    145.688336\n",
       "std      87.995400\n",
       "min      23.000000\n",
       "25%      88.000000\n",
       "50%     128.000000\n",
       "75%     182.000000\n",
       "max    1713.000000"
      ]
     },
     "execution_count": 46,
     "metadata": {},
     "output_type": "execute_result"
    }
   ],
   "source": [
    "joined[[\"GEOID10\", \"VTD\"]].groupby(\"VTD\").agg('count').describe()"
   ]
  },
  {
   "cell_type": "code",
   "execution_count": 55,
   "id": "a8742cf0",
   "metadata": {},
   "outputs": [
    {
     "data": {
      "text/plain": [
       "288987"
      ]
     },
     "execution_count": 55,
     "metadata": {},
     "output_type": "execute_result"
    }
   ],
   "source": [
    "len(joined.GEOID10.unique())"
   ]
  },
  {
   "cell_type": "markdown",
   "id": "fa66d838",
   "metadata": {},
   "source": [
    "### Curious about whether these stats look different for democratic leaning areas"
   ]
  },
  {
   "cell_type": "code",
   "execution_count": 107,
   "id": "5b706030",
   "metadata": {},
   "outputs": [
    {
     "data": {
      "text/plain": [
       "<AxesSubplot: title={'center': '(Stacked) Histogram of VTD populations in NC 2016 \\n Split by whether VTD is democrat leaning'}, ylabel='Frequency'>"
      ]
     },
     "execution_count": 107,
     "metadata": {},
     "output_type": "execute_result"
    },
    {
     "data": {
      "image/png": "[encoded data removed]",
      "text/plain": [
       "<Figure size 640x480 with 1 Axes>"
      ]
     },
     "metadata": {},
     "output_type": "display_data"
    }
   ],
   "source": [
    "vtd['dem_leaning'] = vtd.EL16G_GV_D > vtd.EL16G_GV_R\n",
    "vtd[[\"TOTPOP\", \"dem_leaning\"]].pivot(columns = [\"dem_leaning\"], ).plot(kind = 'hist', \n",
    "                                                                       stacked = True,\n",
    "                                                                       bins = 20, \n",
    "                                                                       title = \"(Stacked) Histogram of VTD populations in NC 2016 \\n Split by whether VTD is democrat leaning\")"
   ]
  },
  {
   "cell_type": "code",
   "execution_count": null,
   "id": "b84a265a",
   "metadata": {
    "scrolled": true
   },
   "outputs": [],
   "source": []
  },
  {
   "cell_type": "code",
   "execution_count": 105,
   "id": "b2612bc5",
   "metadata": {},
   "outputs": [
    {
     "data": {
      "text/plain": [
       "count     1125.000000\n",
       "mean      3814.361778\n",
       "std       2658.171159\n",
       "min        191.000000\n",
       "25%       2253.000000\n",
       "50%       3192.000000\n",
       "75%       4623.000000\n",
       "max      34282.000000\n",
       "Name: TOTPOP, dtype: float64"
      ]
     },
     "execution_count": 105,
     "metadata": {},
     "output_type": "execute_result"
    }
   ],
   "source": [
    "vtd[vtd.dem_leaning == True].TOTPOP.describe()"
   ]
  },
  {
   "cell_type": "code",
   "execution_count": 106,
   "id": "add9d012",
   "metadata": {},
   "outputs": [
    {
     "data": {
      "text/plain": [
       "count     1567.000000\n",
       "mean      3346.730057\n",
       "std       2287.570552\n",
       "min         37.000000\n",
       "25%       1839.500000\n",
       "50%       3018.000000\n",
       "75%       4277.500000\n",
       "max      33387.000000\n",
       "Name: TOTPOP, dtype: float64"
      ]
     },
     "execution_count": 106,
     "metadata": {},
     "output_type": "execute_result"
    }
   ],
   "source": [
    "vtd[vtd.dem_leaning == False].TOTPOP.describe()"
   ]
  },
  {
   "cell_type": "code",
   "execution_count": 35,
   "id": "bc29499f",
   "metadata": {},
   "outputs": [
    {
     "data": {
      "text/plain": [
       "2692"
      ]
     },
     "execution_count": 35,
     "metadata": {},
     "output_type": "execute_result"
    }
   ],
   "source": [
    "len(vtd)"
   ]
  },
  {
   "cell_type": "code",
   "execution_count": 109,
   "id": "ccc44b3e",
   "metadata": {},
   "outputs": [
    {
     "data": {
      "text/html": [
       "<div>\n",
       "<style scoped>\n",
       "    .dataframe tbody tr th:only-of-type {\n",
       "        vertical-align: middle;\n",
       "    }\n",
       "\n",
       "    .dataframe tbody tr th {\n",
       "        vertical-align: top;\n",
       "    }\n",
       "\n",
       "    .dataframe thead th {\n",
       "        text-align: right;\n",
       "    }\n",
       "</style>\n",
       "<table border=\"1\" class=\"dataframe\">\n",
       "  <thead>\n",
       "    <tr style=\"text-align: right;\">\n",
       "      <th></th>\n",
       "      <th>GEOID10</th>\n",
       "    </tr>\n",
       "  </thead>\n",
       "  <tbody>\n",
       "    <tr>\n",
       "      <th>count</th>\n",
       "      <td>1125.000000</td>\n",
       "    </tr>\n",
       "    <tr>\n",
       "      <th>mean</th>\n",
       "      <td>129.096889</td>\n",
       "    </tr>\n",
       "    <tr>\n",
       "      <th>std</th>\n",
       "      <td>82.519406</td>\n",
       "    </tr>\n",
       "    <tr>\n",
       "      <th>min</th>\n",
       "      <td>23.000000</td>\n",
       "    </tr>\n",
       "    <tr>\n",
       "      <th>25%</th>\n",
       "      <td>75.000000</td>\n",
       "    </tr>\n",
       "    <tr>\n",
       "      <th>50%</th>\n",
       "      <td>109.000000</td>\n",
       "    </tr>\n",
       "    <tr>\n",
       "      <th>75%</th>\n",
       "      <td>163.000000</td>\n",
       "    </tr>\n",
       "    <tr>\n",
       "      <th>max</th>\n",
       "      <td>1007.000000</td>\n",
       "    </tr>\n",
       "  </tbody>\n",
       "</table>\n",
       "</div>"
      ],
      "text/plain": [
       "           GEOID10\n",
       "count  1125.000000\n",
       "mean    129.096889\n",
       "std      82.519406\n",
       "min      23.000000\n",
       "25%      75.000000\n",
       "50%     109.000000\n",
       "75%     163.000000\n",
       "max    1007.000000"
      ]
     },
     "execution_count": 109,
     "metadata": {},
     "output_type": "execute_result"
    }
   ],
   "source": [
    "joined [joined.EL16G_GV_D > joined.EL16G_GV_R][[\"GEOID10\", \"VTD\"]].groupby(\"VTD\").agg('count').describe()"
   ]
  },
  {
   "cell_type": "code",
   "execution_count": 110,
   "id": "00a17e4c",
   "metadata": {},
   "outputs": [
    {
     "data": {
      "text/html": [
       "<div>\n",
       "<style scoped>\n",
       "    .dataframe tbody tr th:only-of-type {\n",
       "        vertical-align: middle;\n",
       "    }\n",
       "\n",
       "    .dataframe tbody tr th {\n",
       "        vertical-align: top;\n",
       "    }\n",
       "\n",
       "    .dataframe thead th {\n",
       "        text-align: right;\n",
       "    }\n",
       "</style>\n",
       "<table border=\"1\" class=\"dataframe\">\n",
       "  <thead>\n",
       "    <tr style=\"text-align: right;\">\n",
       "      <th></th>\n",
       "      <th>GEOID10</th>\n",
       "    </tr>\n",
       "  </thead>\n",
       "  <tbody>\n",
       "    <tr>\n",
       "      <th>count</th>\n",
       "      <td>1567.000000</td>\n",
       "    </tr>\n",
       "    <tr>\n",
       "      <th>mean</th>\n",
       "      <td>157.599872</td>\n",
       "    </tr>\n",
       "    <tr>\n",
       "      <th>std</th>\n",
       "      <td>89.881013</td>\n",
       "    </tr>\n",
       "    <tr>\n",
       "      <th>min</th>\n",
       "      <td>28.000000</td>\n",
       "    </tr>\n",
       "    <tr>\n",
       "      <th>25%</th>\n",
       "      <td>100.000000</td>\n",
       "    </tr>\n",
       "    <tr>\n",
       "      <th>50%</th>\n",
       "      <td>142.000000</td>\n",
       "    </tr>\n",
       "    <tr>\n",
       "      <th>75%</th>\n",
       "      <td>193.000000</td>\n",
       "    </tr>\n",
       "    <tr>\n",
       "      <th>max</th>\n",
       "      <td>1713.000000</td>\n",
       "    </tr>\n",
       "  </tbody>\n",
       "</table>\n",
       "</div>"
      ],
      "text/plain": [
       "           GEOID10\n",
       "count  1567.000000\n",
       "mean    157.599872\n",
       "std      89.881013\n",
       "min      28.000000\n",
       "25%     100.000000\n",
       "50%     142.000000\n",
       "75%     193.000000\n",
       "max    1713.000000"
      ]
     },
     "execution_count": 110,
     "metadata": {},
     "output_type": "execute_result"
    }
   ],
   "source": [
    "joined [joined.EL16G_GV_D <= joined.EL16G_GV_R][[\"GEOID10\", \"VTD\"]].groupby(\"VTD\").agg('count').describe()"
   ]
  },
  {
   "cell_type": "code",
   "execution_count": null,
   "id": "c799c612",
   "metadata": {},
   "outputs": [],
   "source": []
  },
  {
   "cell_type": "code",
   "execution_count": null,
   "id": "9742653c",
   "metadata": {},
   "outputs": [],
   "source": []
  },
  {
   "cell_type": "markdown",
   "id": "6485808b",
   "metadata": {},
   "source": [
    "## Properties of VTDs"
   ]
  },
  {
   "cell_type": "code",
   "execution_count": null,
   "id": "7fb50ba5",
   "metadata": {},
   "outputs": [],
   "source": []
  },
  {
   "cell_type": "markdown",
   "id": "5087814d",
   "metadata": {},
   "source": [
    "## Properties of VTDs"
   ]
  },
  {
   "cell_type": "code",
   "execution_count": null,
   "id": "dc90fabb",
   "metadata": {},
   "outputs": [],
   "source": []
  }
 ],
 "metadata": {
  "kernelspec": {
   "display_name": "Python 3 (ipykernel)",
   "language": "python",
   "name": "python3"
  },
  "language_info": {
   "codemirror_mode": {
    "name": "ipython",
    "version": 3
   },
   "file_extension": ".py",
   "mimetype": "text/x-python",
   "name": "python",
   "nbconvert_exporter": "python",
   "pygments_lexer": "ipython3",
   "version": "3.10.6"
  }
 },
 "nbformat": 4,
 "nbformat_minor": 5
}
