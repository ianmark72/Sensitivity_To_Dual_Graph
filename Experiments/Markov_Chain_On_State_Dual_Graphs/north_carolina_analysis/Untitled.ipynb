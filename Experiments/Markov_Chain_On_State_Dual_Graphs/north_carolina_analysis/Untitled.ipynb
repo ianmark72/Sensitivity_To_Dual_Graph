{
 "cells": [
  {
   "cell_type": "code",
   "execution_count": 1,
   "id": "3ede60d0",
   "metadata": {},
   "outputs": [],
   "source": [
    "import networkx as nx"
   ]
  },
  {
   "cell_type": "code",
   "execution_count": 4,
   "id": "d22e0687",
   "metadata": {},
   "outputs": [],
   "source": [
    "G = nx.grid_graph([2,2])"
   ]
  },
  {
   "cell_type": "code",
   "execution_count": 6,
   "id": "4fb636d0",
   "metadata": {},
   "outputs": [
    {
     "data": {
      "text/plain": [
       "NodeView(((0, 0), (0, 1), (1, 1)))"
      ]
     },
     "execution_count": 6,
     "metadata": {},
     "output_type": "execute_result"
    }
   ],
   "source": [
    "nx.contracted_edge(G, ( (0,0) , (1,0)  ) ).nodes()"
   ]
  },
  {
   "cell_type": "code",
   "execution_count": 8,
   "id": "eeed3d12",
   "metadata": {},
   "outputs": [
    {
     "data": {
      "text/plain": [
       "NodeView(((0, 0), (0, 1), (1, 1)))"
      ]
     },
     "execution_count": 8,
     "metadata": {},
     "output_type": "execute_result"
    }
   ],
   "source": [
    "nx.contracted_nodes(G, (0,0) , (1,0) ).nodes()"
   ]
  },
  {
   "cell_type": "code",
   "execution_count": null,
   "id": "69ea77be",
   "metadata": {},
   "outputs": [],
   "source": []
  }
 ],
 "metadata": {
  "kernelspec": {
   "display_name": "Python 3 (ipykernel)",
   "language": "python",
   "name": "python3"
  },
  "language_info": {
   "codemirror_mode": {
    "name": "ipython",
    "version": 3
   },
   "file_extension": ".py",
   "mimetype": "text/x-python",
   "name": "python",
   "nbconvert_exporter": "python",
   "pygments_lexer": "ipython3",
   "version": "3.10.6"
  }
 },
 "nbformat": 4,
 "nbformat_minor": 5
}
