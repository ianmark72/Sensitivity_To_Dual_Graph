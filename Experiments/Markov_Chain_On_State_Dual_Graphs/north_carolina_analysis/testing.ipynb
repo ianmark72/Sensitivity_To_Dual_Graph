{
 "cells": [
  {
   "cell_type": "code",
   "execution_count": 1,
   "metadata": {},
   "outputs": [],
   "source": [
    "import VTDToCounties"
   ]
  },
  {
   "cell_type": "code",
   "execution_count": 2,
   "metadata": {},
   "outputs": [
    {
     "name": "stderr",
     "output_type": "stream",
     "text": [
      "/Users/elle/Documents/Github/Sensitivity_To_Dual_Graph/Experiments/Markov_Chain_On_State_Dual_Graphs/north_carolina_analysis/VTDToCounties.py:118: UserWarning: Column names longer than 10 characters will be truncated when saved to ESRI Shapefile.\n",
      "  gdf_subset.to_file('./processed_data_outputs/blocks_with_votes.shp')\n"
     ]
    },
    {
     "name": "stdout",
     "output_type": "stream",
     "text": [
      "Graph Already Exists\n"
     ]
    },
    {
     "data": {
      "text/plain": [
       "<Graph [288987 nodes, 708356 edges]>"
      ]
     },
     "execution_count": 2,
     "metadata": {},
     "output_type": "execute_result"
    }
   ],
   "source": [
    "VTDToCounties.produce_block_level_graph()"
   ]
  },
  {
   "cell_type": "code",
   "execution_count": null,
   "metadata": {},
   "outputs": [],
   "source": []
  }
 ],
 "metadata": {
  "kernelspec": {
   "display_name": "Python 3.9.15 ('gerry')",
   "language": "python",
   "name": "python3"
  },
  "language_info": {
   "codemirror_mode": {
    "name": "ipython",
    "version": 3
   },
   "file_extension": ".py",
   "mimetype": "text/x-python",
   "name": "python",
   "nbconvert_exporter": "python",
   "pygments_lexer": "ipython3",
   "version": "3.9.15"
  },
  "orig_nbformat": 4,
  "vscode": {
   "interpreter": {
    "hash": "03500f725345e0515d5e4cba947e9b370220a5b7147654dd32279f2ca01183d7"
   }
  }
 },
 "nbformat": 4,
 "nbformat_minor": 2
}
