{
 "cells": [
  {
   "cell_type": "code",
   "execution_count": 3,
   "id": "e6d8a02a",
   "metadata": {},
   "outputs": [],
   "source": [
    "import geopandas as gpd\n",
    "import pandas as pd\n",
    "from gerrychain import Graph\n",
    "import random\n",
    "import networkx as nx\n",
    "import numpy as np\n",
    "\n",
    "import facefinder\n",
    "import numpy as np\n",
    "import pandas as pd\n",
    "import random\n",
    "import pickle\n",
    "import csv\n",
    "import copy\n",
    "import statistics\n",
    "import math\n",
    "import gerrychain\n",
    "import networkx\n",
    "import matplotlib as mpl\n",
    "import matplotlib.pyplot as plt\n",
    "import networkx as nx\n",
    "import os\n",
    "import json\n",
    "import argparse\n",
    "from functools import partial\n",
    "from gerrychain.tree import bipartition_tree as bpt\n",
    "from gerrychain import Graph, MarkovChain\n",
    "from gerrychain import accept\n",
    "from gerrychain.constraints import (Validator, single_flip_contiguous,\n",
    "                                    within_percent_of_ideal_population, UpperBound)\n",
    "from gerrychain.proposals import propose_random_flip, propose_chunk_flip\n",
    "from gerrychain.accept import always_accept\n",
    "from gerrychain.updaters import Election, Tally, cut_edges\n",
    "from gerrychain import GeographicPartition\n",
    "from gerrychain.partition import Partition\n",
    "from gerrychain.proposals import recom\n",
    "from gerrychain.metrics import mean_median, efficiency_gap\n",
    "from gerrychain.tree import recursive_tree_part, bipartition_tree_random, PopulatedGraph, random_spanning_tree\n",
    "from collections import defaultdict\n",
    "from datetime import datetime\n",
    "import time\n",
    "from concurrent.futures import ProcessPoolExecutor\n",
    "import logging\n"
   ]
  },
  {
   "cell_type": "markdown",
   "id": "adb7e811",
   "metadata": {},
   "source": [
    "# Helper functions"
   ]
  },
  {
   "cell_type": "code",
   "execution_count": 4,
   "id": "db4a823d",
   "metadata": {},
   "outputs": [],
   "source": [
    "def agglomerate(graph, agg_field = \"dem_prop\", agg_field_threshold = .5,  pop_cap = 6000, \n",
    "                steps = 1000000):\n",
    "    # go through map, agglomerate VTDs that have similar EL16G_GV_D_block proportions, until pop_cap is reached\n",
    "    # also allow merging of zero pop blocks with no condition.\n",
    "    for i in range(steps):\n",
    "        #if i % 100000 == 0:\n",
    "            #print(i)\n",
    "        if i % 10000 == 0:\n",
    "            edges = list(graph.edges())\n",
    "        e = random.choice(edges)\n",
    "        if graph.has_edge(e[0], e[1]):\n",
    "\n",
    "            if  (graph.nodes[e[0]]['TOTPOP_block'] == 0 or\n",
    "                 graph.nodes[e[1]]['TOTPOP_block'] == 0 or\n",
    "                 (graph.nodes[e[0]][agg_field] >  agg_field_threshold and \n",
    "                graph.nodes[e[1]][agg_field] >  agg_field_threshold)):\n",
    "                tot_pop = graph.nodes[e[0]]['TOTPOP_block'] + graph.nodes[e[1]]['TOTPOP_block']\n",
    "                tot_dem = graph.nodes[e[0]]['dem']+ graph.nodes[e[1]]['dem']\n",
    "                tot_rep = graph.nodes[e[0]]['rep'] + graph.nodes[e[1]]['rep']\n",
    "                #print(tot_pop)\n",
    "                if tot_pop < pop_cap:\n",
    "                    graph.nodes[e[0]]['cluster'] = graph.nodes[e[0]]['cluster'] + graph.nodes[e[1]]['cluster'] \n",
    "                    nx.contracted_nodes(graph, e[0], e[1], copy = False, self_loops = False)\n",
    "                    # according to documentation node named e[0] remains\n",
    "                    #print(e)\n",
    "                    graph.nodes[e[0]]['TOTPOP_block'] = tot_pop\n",
    "                    graph.nodes[e[0]]['dem'] = tot_dem\n",
    "                    graph.nodes[e[0]]['rep'] = tot_rep\n",
    "                    if tot_pop !=0 :\n",
    "\n",
    "                        graph.nodes[e[0]]['dem_prop'] = tot_dem / tot_pop\n",
    "                        graph.nodes[e[0]]['rep_prop'] = tot_rep / tot_pop\n",
    "                    else:\n",
    "                        graph.nodes[e[0]]['dem_prop'] = np.nan\n",
    "                        graph.nodes[e[0]]['rep_prop'] = np.nan"
   ]
  },
  {
   "cell_type": "code",
   "execution_count": 5,
   "id": "362a1d35",
   "metadata": {},
   "outputs": [],
   "source": [
    "def create_candidate(blocks_graph,\n",
    "                     target_num_vtds = 4000,\n",
    "                    dem_threshold = .7, dem_pop_cap = 8000, dem_steps = 200000,\n",
    "                    rep_threshold = 0, rep_pop_cap = 2000, rep_steps = 2000,\n",
    "                     save = False,\n",
    "                     print_progress = False\n",
    "                    ):\n",
    "    blocks_graph_test = blocks_graph_in.copy()\n",
    "    if print_progress:\n",
    "        print(f\"Currently has {len(blocks_graph_test)} nodes\")\n",
    "    last = len(blocks_graph_test)\n",
    "    for n in blocks_graph_test.nodes():\n",
    "        blocks_graph_test.nodes[n]['cluster'] = [n]\n",
    "    while len(blocks_graph_test) > target_num_vtds:\n",
    "        agglomerate(graph = blocks_graph_test, agg_field = \"dem_prop\", \n",
    "                    agg_field_threshold = dem_threshold,  pop_cap = dem_pop_cap,  steps = dem_steps)\n",
    "        agglomerate(graph = blocks_graph_test, agg_field = \"rep_prop\",  \n",
    "                    agg_field_threshold = rep_threshold,  pop_cap = rep_pop_cap,  steps = rep_steps)\n",
    "        if print_progress:\n",
    "            print(f\"Currently has {len(blocks_graph_test)} nodes\")\n",
    "        if len(blocks_graph_test) == last:\n",
    "            # some more aggressive joining at this point\n",
    "            agglomerate(graph = blocks_graph_test, agg_field = \"rep_prop\",  \n",
    "                    agg_field_threshold = 0,  pop_cap = 2000,  steps = 2000000)\n",
    "        last = len(blocks_graph_test)\n",
    "    if print_progress:\n",
    "        print(\"Finished. Stats:\")    \n",
    "        print(f\"Has {len(blocks_graph_test)} VTDs\")\n",
    "        pops = []\n",
    "        for node in blocks_graph_test.nodes():\n",
    "            if blocks_graph_test.nodes[node]['dem'] > blocks_graph_test.nodes[node]['rep'] * 0:\n",
    "                pops.append(blocks_graph_test.nodes[node]['TOTPOP_block'])\n",
    "        pd.Series(pops).plot(kind = 'hist', bins = 30)\n",
    "        plt.show()\n",
    "    name = str(datetime.now()).replace(\" \", \"\").replace(\":\", \"_\")\n",
    "    saved_name = f\"candidate_blocks_graph{name}\"\n",
    "    if save == True:\n",
    "\n",
    "        nx.write_gpickle(blocks_graph_test,f'./processed_data_outputs/{saved_name}.json')\n",
    "    return blocks_graph_test, saved_name"
   ]
  },
  {
   "cell_type": "code",
   "execution_count": 6,
   "id": "677a8003",
   "metadata": {},
   "outputs": [],
   "source": [
    "def gerry(blocks_graph_test, gerrychain_steps = 10000, epsilon = .2):\n",
    "    updaters = {'population': Tally('population'),\n",
    "                        'cut_edges': cut_edges,\n",
    "                        }\n",
    "    num_districts = 13\n",
    "    ideal_population= sum( blocks_graph_test.nodes[x][\"TOTPOP_block\"] for x in blocks_graph_test.nodes())/ num_districts\n",
    "\n",
    "    for n in blocks_graph_test.nodes():\n",
    "        blocks_graph_test.nodes[n][\"population\"] =  blocks_graph_test.nodes[n][\"TOTPOP_block\"]\n",
    "    \n",
    "        \n",
    "    # accept imported\n",
    "    initial_partition_assignment =gerrychain.tree.recursive_tree_part(blocks_graph_test, \n",
    "                                                            range(num_districts), \n",
    "                                                            ideal_population, \"population\", epsilon)\n",
    "    \n",
    "    for n in blocks_graph_test.nodes():\n",
    "        blocks_graph_test.nodes[n][\"district\"] = initial_partition_assignment[n]\n",
    "    \n",
    "    initial_partition = Partition(blocks_graph_test, assignment='district',  updaters=updaters)\n",
    "    \n",
    "    \n",
    "    popbound = within_percent_of_ideal_population(initial_partition, epsilon)\n",
    "    tree_proposal = partial(recom, pop_col = 'population', pop_target=ideal_population, epsilon=epsilon,\n",
    "                                node_repeats=1)\n",
    "\n",
    "\n",
    "    exp_chain = MarkovChain(tree_proposal, Validator([popbound]), accept=accept.always_accept,\n",
    "                            initial_state=initial_partition, total_steps=gerrychain_steps)\n",
    "    seats_won_for_republicans = []\n",
    "    seats_won_for_democrats = []\n",
    "    \n",
    "    for part in exp_chain:\n",
    "        rep_seats_won = 0\n",
    "        dem_seats_won = 0\n",
    "        for j in range(num_districts):\n",
    "            rep_votes = 0\n",
    "            dem_votes = 0\n",
    "            for n in blocks_graph_test.nodes():\n",
    "                if part.assignment[n] == j:\n",
    "                    rep_votes += blocks_graph_test.nodes[n][\"rep\"]\n",
    "                    dem_votes += blocks_graph_test.nodes[n][\"dem\"]\n",
    "            total_seats_dem = int(dem_votes > rep_votes)\n",
    "            total_seats_rep = int(rep_votes > dem_votes)\n",
    "            rep_seats_won += total_seats_rep\n",
    "            dem_seats_won += total_seats_dem\n",
    "        seats_won_for_republicans.append(rep_seats_won)\n",
    "        seats_won_for_democrats.append(dem_seats_won)\n",
    "\n",
    "    rep_avg = statistics.mean(seats_won_for_republicans)\n",
    "    dem_avg = statistics.mean(seats_won_for_democrats)\n",
    "    print(\"avg rep seats \", rep_avg)\n",
    "\n",
    "    print(\"avg dem seats \", dem_avg)\n",
    "    \n",
    "    pd.Series(seats_won_for_republicans).plot(kind = 'hist', title = 'rep seats')\n",
    "    plt.show()\n",
    "    return dem_avg, rep_avg"
   ]
  },
  {
   "cell_type": "markdown",
   "id": "81ef8fee",
   "metadata": {},
   "source": [
    "# Load"
   ]
  },
  {
   "cell_type": "code",
   "execution_count": 7,
   "id": "0a97b56d",
   "metadata": {},
   "outputs": [],
   "source": [
    "blocks_graph_in = Graph.from_json('./processed_data_outputs/blocks_graph.json')"
   ]
  },
  {
   "cell_type": "markdown",
   "id": "64482452",
   "metadata": {},
   "source": [
    "# Experiments"
   ]
  },
  {
   "cell_type": "code",
   "execution_count": 8,
   "id": "dd91cc0e",
   "metadata": {},
   "outputs": [
    {
     "name": "stdout",
     "output_type": "stream",
     "text": [
      "Currently has 288987 nodes\n",
      "Currently has 225765 nodes\n",
      "Currently has 189192 nodes\n",
      "Currently has 164114 nodes\n",
      "Currently has 143051 nodes\n",
      "Currently has 123610 nodes\n",
      "Currently has 105049 nodes\n",
      "Currently has 87113 nodes\n",
      "Currently has 69962 nodes\n",
      "Currently has 54115 nodes\n",
      "Currently has 40031 nodes\n",
      "Currently has 28457 nodes\n",
      "Currently has 19844 nodes\n",
      "Currently has 14310 nodes\n",
      "Currently has 11396 nodes\n",
      "Currently has 10110 nodes\n",
      "Currently has 9662 nodes\n",
      "Currently has 9491 nodes\n",
      "Currently has 9449 nodes\n",
      "Currently has 9429 nodes\n",
      "Currently has 9419 nodes\n",
      "Currently has 9417 nodes\n",
      "Currently has 9417 nodes\n",
      "Finished. Stats:\n",
      "avg rep seats  7.322\n",
      "avg dem seats  5.678\n"
     ]
    },
    {
     "data": {
      "image/png": "[encoded data removed]",
      "text/plain": [
       "<Figure size 640x480 with 1 Axes>"
      ]
     },
     "metadata": {},
     "output_type": "display_data"
    }
   ],
   "source": [
    "blocks_graph_test, saved_name = create_candidate(blocks_graph_in,               \n",
    "                    target_num_vtds = 4000,\n",
    "                    dem_threshold = .7, dem_pop_cap = 8000, dem_steps = 200000,\n",
    "                    rep_threshold = 0, rep_pop_cap = 2000, rep_steps = 20000,\n",
    "                                                 save = False, print_progress = True)\n",
    "print('running gerrychain')\n",
    "dem_avg, rep_avg = gerry(blocks_graph_test, gerrychain_steps = 2000)\n",
    "\n",
    "if rep_avg > 9:\n",
    "    print(f\"success(?) with {saved_name} as {dem_avg}, {rep_avg}\")\n",
    "    print(\"writing to file\")\n",
    "    nx.write_gpickle(blocks_graph_test,f'./processed_data_outputs/{saved_name}.json')"
   ]
  },
  {
   "cell_type": "markdown",
   "id": "8824e33e",
   "metadata": {},
   "source": [
    "## Finding VTD partitions using recursive tree splits..."
   ]
  },
  {
   "cell_type": "code",
   "execution_count": null,
   "id": "a0debca2",
   "metadata": {},
   "outputs": [],
   "source": [
    "num_vtds = 2000\n",
    "ideal_population= sum( blocks_graph_in.nodes[x][\"TOTPOP_block\"] for x in blocks_graph_in.nodes())/ num_vtds\n",
    "\n",
    "initial_partition_assignment =gerrychain.tree.recursive_tree_part(blocks_graph_in, \n",
    "                                                            \n",
    "                                                            range(num_vtds), ideal_population,\n",
    "                                                                  \"TOTPOP_block\", epsilon = 1)"
   ]
  },
  {
   "cell_type": "code",
   "execution_count": null,
   "id": "4bf3ed2b",
   "metadata": {},
   "outputs": [],
   "source": []
  },
  {
   "cell_type": "code",
   "execution_count": null,
   "id": "315ad0d4",
   "metadata": {},
   "outputs": [],
   "source": []
  },
  {
   "cell_type": "code",
   "execution_count": null,
   "id": "42fdff27",
   "metadata": {},
   "outputs": [],
   "source": []
  },
  {
   "cell_type": "markdown",
   "id": "1d7158fe",
   "metadata": {},
   "source": [
    "## Do a random walk over VTD partitions with gerrychain..."
   ]
  }
 ],
 "metadata": {
  "kernelspec": {
   "display_name": "Python 3 (ipykernel)",
   "language": "python",
   "name": "python3"
  },
  "language_info": {
   "codemirror_mode": {
    "name": "ipython",
    "version": 3
   },
   "file_extension": ".py",
   "mimetype": "text/x-python",
   "name": "python",
   "nbconvert_exporter": "python",
   "pygments_lexer": "ipython3",
   "version": "3.10.6"
  }
 },
 "nbformat": 4,
 "nbformat_minor": 5
}
