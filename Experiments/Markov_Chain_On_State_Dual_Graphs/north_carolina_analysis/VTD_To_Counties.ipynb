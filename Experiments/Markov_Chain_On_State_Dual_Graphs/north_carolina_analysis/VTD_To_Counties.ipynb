{
 "cells": [
  {
   "cell_type": "code",
   "execution_count": 15,
   "id": "f4074058",
   "metadata": {},
   "outputs": [],
   "source": [
    "\n",
    "import random\n",
    "import pickle\n",
    "import copy\n",
    "import math\n",
    "import os\n",
    "import json\n",
    "import time\n",
    "import logging\n",
    "\n",
    "import geopandas as gpd\n",
    "import pandas as pd\n",
    "\n",
    "\n"
   ]
  },
  {
   "cell_type": "code",
   "execution_count": 48,
   "id": "2d0d13da",
   "metadata": {},
   "outputs": [],
   "source": [
    "\n",
    "vtd = gpd.read_file(\"./data/NC_VTD.shp\").to_crs(\"EPSG:4269\")\n",
    "\n",
    "\n",
    "\n",
    "blocks = gpd.read_file(\"./data/tl_2016_37_tabblock10/tl_2016_37_tabblock10.shp\").to_crs(\"EPSG:4269\")\n",
    "\n",
    "block_id = \"GEOID10\"\n",
    "joined = gpd.sjoin(blocks, vtd, how = 'left',  predicate = 'intersects' )\n",
    "mapping = joined[[block_id, \"VTD\"]]\n",
    "\n",
    "#display(joined[[geo_id, \"VTD\"]].groupby(geo_id).agg('count').value_counts())"
   ]
  },
  {
   "cell_type": "code",
   "execution_count": 58,
   "id": "025cbdfb",
   "metadata": {},
   "outputs": [
    {
     "ename": "DriverError",
     "evalue": "./data/tl_2016_37_bg.shp: No such file or directory",
     "output_type": "error",
     "traceback": [
      "\u001b[0;31m---------------------------------------------------------------------------\u001b[0m",
      "\u001b[0;31mCPLE_OpenFailedError\u001b[0m                      Traceback (most recent call last)",
      "File \u001b[0;32mfiona/_shim.pyx:83\u001b[0m, in \u001b[0;36mfiona._shim.gdal_open_vector\u001b[0;34m()\u001b[0m\n",
      "File \u001b[0;32mfiona/_err.pyx:291\u001b[0m, in \u001b[0;36mfiona._err.exc_wrap_pointer\u001b[0;34m()\u001b[0m\n",
      "\u001b[0;31mCPLE_OpenFailedError\u001b[0m: ./data/tl_2016_37_bg.shp: No such file or directory",
      "\nDuring handling of the above exception, another exception occurred:\n",
      "\u001b[0;31mDriverError\u001b[0m                               Traceback (most recent call last)",
      "Cell \u001b[0;32mIn [58], line 1\u001b[0m\n\u001b[0;32m----> 1\u001b[0m bg \u001b[39m=\u001b[39m gpd\u001b[39m.\u001b[39;49mread_file(\u001b[39m\"\u001b[39;49m\u001b[39m./data/tl_2016_37_bg.shp\u001b[39;49m\u001b[39m\"\u001b[39;49m)\u001b[39m.\u001b[39mto_crs(\u001b[39m\"\u001b[39m\u001b[39mEPSG:4269\u001b[39m\u001b[39m\"\u001b[39m)\n",
      "File \u001b[0;32m~/opt/anaconda3/envs/gerry/lib/python3.9/site-packages/geopandas/io/file.py:259\u001b[0m, in \u001b[0;36m_read_file\u001b[0;34m(filename, bbox, mask, rows, engine, **kwargs)\u001b[0m\n\u001b[1;32m    256\u001b[0m     path_or_bytes \u001b[39m=\u001b[39m filename\n\u001b[1;32m    258\u001b[0m \u001b[39mif\u001b[39;00m engine \u001b[39m==\u001b[39m \u001b[39m\"\u001b[39m\u001b[39mfiona\u001b[39m\u001b[39m\"\u001b[39m:\n\u001b[0;32m--> 259\u001b[0m     \u001b[39mreturn\u001b[39;00m _read_file_fiona(\n\u001b[1;32m    260\u001b[0m         path_or_bytes, from_bytes, bbox\u001b[39m=\u001b[39;49mbbox, mask\u001b[39m=\u001b[39;49mmask, rows\u001b[39m=\u001b[39;49mrows, \u001b[39m*\u001b[39;49m\u001b[39m*\u001b[39;49mkwargs\n\u001b[1;32m    261\u001b[0m     )\n\u001b[1;32m    262\u001b[0m \u001b[39melif\u001b[39;00m engine \u001b[39m==\u001b[39m \u001b[39m\"\u001b[39m\u001b[39mpyogrio\u001b[39m\u001b[39m\"\u001b[39m:\n\u001b[1;32m    263\u001b[0m     \u001b[39mreturn\u001b[39;00m _read_file_pyogrio(\n\u001b[1;32m    264\u001b[0m         path_or_bytes, bbox\u001b[39m=\u001b[39mbbox, mask\u001b[39m=\u001b[39mmask, rows\u001b[39m=\u001b[39mrows, \u001b[39m*\u001b[39m\u001b[39m*\u001b[39mkwargs\n\u001b[1;32m    265\u001b[0m     )\n",
      "File \u001b[0;32m~/opt/anaconda3/envs/gerry/lib/python3.9/site-packages/geopandas/io/file.py:303\u001b[0m, in \u001b[0;36m_read_file_fiona\u001b[0;34m(path_or_bytes, from_bytes, bbox, mask, rows, where, **kwargs)\u001b[0m\n\u001b[1;32m    300\u001b[0m     reader \u001b[39m=\u001b[39m fiona\u001b[39m.\u001b[39mopen\n\u001b[1;32m    302\u001b[0m \u001b[39mwith\u001b[39;00m fiona_env():\n\u001b[0;32m--> 303\u001b[0m     \u001b[39mwith\u001b[39;00m reader(path_or_bytes, \u001b[39m*\u001b[39;49m\u001b[39m*\u001b[39;49mkwargs) \u001b[39mas\u001b[39;00m features:\n\u001b[1;32m    304\u001b[0m         crs \u001b[39m=\u001b[39m features\u001b[39m.\u001b[39mcrs_wkt\n\u001b[1;32m    305\u001b[0m         \u001b[39m# attempt to get EPSG code\u001b[39;00m\n",
      "File \u001b[0;32m~/opt/anaconda3/envs/gerry/lib/python3.9/site-packages/fiona/env.py:408\u001b[0m, in \u001b[0;36mensure_env_with_credentials.<locals>.wrapper\u001b[0;34m(*args, **kwargs)\u001b[0m\n\u001b[1;32m    405\u001b[0m \u001b[39m@wraps\u001b[39m(f)\n\u001b[1;32m    406\u001b[0m \u001b[39mdef\u001b[39;00m \u001b[39mwrapper\u001b[39m(\u001b[39m*\u001b[39margs, \u001b[39m*\u001b[39m\u001b[39m*\u001b[39mkwargs):\n\u001b[1;32m    407\u001b[0m     \u001b[39mif\u001b[39;00m local\u001b[39m.\u001b[39m_env:\n\u001b[0;32m--> 408\u001b[0m         \u001b[39mreturn\u001b[39;00m f(\u001b[39m*\u001b[39;49margs, \u001b[39m*\u001b[39;49m\u001b[39m*\u001b[39;49mkwargs)\n\u001b[1;32m    409\u001b[0m     \u001b[39melse\u001b[39;00m:\n\u001b[1;32m    410\u001b[0m         \u001b[39mif\u001b[39;00m \u001b[39misinstance\u001b[39m(args[\u001b[39m0\u001b[39m], \u001b[39mstr\u001b[39m):\n",
      "File \u001b[0;32m~/opt/anaconda3/envs/gerry/lib/python3.9/site-packages/fiona/__init__.py:264\u001b[0m, in \u001b[0;36mopen\u001b[0;34m(fp, mode, driver, schema, crs, encoding, layer, vfs, enabled_drivers, crs_wkt, **kwargs)\u001b[0m\n\u001b[1;32m    261\u001b[0m     path \u001b[39m=\u001b[39m parse_path(fp)\n\u001b[1;32m    263\u001b[0m \u001b[39mif\u001b[39;00m mode \u001b[39min\u001b[39;00m (\u001b[39m'\u001b[39m\u001b[39ma\u001b[39m\u001b[39m'\u001b[39m, \u001b[39m'\u001b[39m\u001b[39mr\u001b[39m\u001b[39m'\u001b[39m):\n\u001b[0;32m--> 264\u001b[0m     c \u001b[39m=\u001b[39m Collection(path, mode, driver\u001b[39m=\u001b[39;49mdriver, encoding\u001b[39m=\u001b[39;49mencoding,\n\u001b[1;32m    265\u001b[0m                    layer\u001b[39m=\u001b[39;49mlayer, enabled_drivers\u001b[39m=\u001b[39;49menabled_drivers, \u001b[39m*\u001b[39;49m\u001b[39m*\u001b[39;49mkwargs)\n\u001b[1;32m    266\u001b[0m \u001b[39melif\u001b[39;00m mode \u001b[39m==\u001b[39m \u001b[39m'\u001b[39m\u001b[39mw\u001b[39m\u001b[39m'\u001b[39m:\n\u001b[1;32m    267\u001b[0m     \u001b[39mif\u001b[39;00m schema:\n\u001b[1;32m    268\u001b[0m         \u001b[39m# Make an ordered dict of schema properties.\u001b[39;00m\n",
      "File \u001b[0;32m~/opt/anaconda3/envs/gerry/lib/python3.9/site-packages/fiona/collection.py:162\u001b[0m, in \u001b[0;36mCollection.__init__\u001b[0;34m(self, path, mode, driver, schema, crs, encoding, layer, vsi, archive, enabled_drivers, crs_wkt, ignore_fields, ignore_geometry, **kwargs)\u001b[0m\n\u001b[1;32m    160\u001b[0m \u001b[39mif\u001b[39;00m \u001b[39mself\u001b[39m\u001b[39m.\u001b[39mmode \u001b[39m==\u001b[39m \u001b[39m'\u001b[39m\u001b[39mr\u001b[39m\u001b[39m'\u001b[39m:\n\u001b[1;32m    161\u001b[0m     \u001b[39mself\u001b[39m\u001b[39m.\u001b[39msession \u001b[39m=\u001b[39m Session()\n\u001b[0;32m--> 162\u001b[0m     \u001b[39mself\u001b[39;49m\u001b[39m.\u001b[39;49msession\u001b[39m.\u001b[39;49mstart(\u001b[39mself\u001b[39;49m, \u001b[39m*\u001b[39;49m\u001b[39m*\u001b[39;49mkwargs)\n\u001b[1;32m    163\u001b[0m \u001b[39melif\u001b[39;00m \u001b[39mself\u001b[39m\u001b[39m.\u001b[39mmode \u001b[39min\u001b[39;00m (\u001b[39m'\u001b[39m\u001b[39ma\u001b[39m\u001b[39m'\u001b[39m, \u001b[39m'\u001b[39m\u001b[39mw\u001b[39m\u001b[39m'\u001b[39m):\n\u001b[1;32m    164\u001b[0m     \u001b[39mself\u001b[39m\u001b[39m.\u001b[39msession \u001b[39m=\u001b[39m WritingSession()\n",
      "File \u001b[0;32mfiona/ogrext.pyx:540\u001b[0m, in \u001b[0;36mfiona.ogrext.Session.start\u001b[0;34m()\u001b[0m\n",
      "File \u001b[0;32mfiona/_shim.pyx:90\u001b[0m, in \u001b[0;36mfiona._shim.gdal_open_vector\u001b[0;34m()\u001b[0m\n",
      "\u001b[0;31mDriverError\u001b[0m: ./data/tl_2016_37_bg.shp: No such file or directory"
     ]
    }
   ],
   "source": [
    "bg = gpd.read_file(\"./data/tl_2016_37_bg.shp\").to_crs(\"EPSG:4269\")"
   ]
  },
  {
   "cell_type": "code",
   "execution_count": 63,
   "id": "04471472",
   "metadata": {},
   "outputs": [
    {
     "data": {
      "text/plain": [
       "['geometry']"
      ]
     },
     "execution_count": 63,
     "metadata": {},
     "output_type": "execute_result"
    }
   ],
   "source": [
    "[x for x in joined.columns if \"geo\" in x]"
   ]
  },
  {
   "cell_type": "code",
   "execution_count": null,
   "id": "039babb4",
   "metadata": {},
   "outputs": [],
   "source": [
    "def impute_down(coarse_partition, coarse_id = \"vtdid\",\n",
    "                 fine_partition, fine_id = \"blockid\"):\n",
    "    # Given a function on coarse partition, imput down to fine partition based on overlap size\n",
    "\n",
    "    \n",
    "    joined = gpd.sjoin(coarse_partition, fine_partition, how = 'left',  predicate = 'intersects' )\n",
    "    mapping = joined[[coarse_id, fine_id]]\n",
    "\n",
    "    fine_with_map = fine_partition.merge(mapping)\n",
    "\n",
    "\n",
    "    joined_with_geos  = fine_with_map.merge(coarse,\n",
    "                                                        left_on = coarse_id, right_on = coarse_id,\n",
    "                                                        suffixes = ('_fine', '_coarse'))\n",
    "\n",
    "\n",
    "\n",
    "    fine_geos = gpd.GeoSeries(joined_with_geos.geometry_fine).to_crs(\"ESRI:103500\")\n",
    "    geo_with_vtd_shape_data['geo_intersect'] = geo_geos.intersection(gpd.GeoSeries(joined_with_geos.geometry_coarse).to_crs(\"ESRI:103500\"))\n",
    "    geo_with_vtd_shape_data['geo_area'] = geo_geos.area\n",
    "    geo_with_vtd_shape_data['intersect_area'] = gpd.GeoSeries(geo_with_vtd_shape_data.geo_intersect).to_crs(\"ESRI:103500\").area\n",
    "    geo_with_vtd_shape_data['area_proportion'] =  geo_with_vtd_shape_data['intersect_area'] / geo_with_vtd_shape_data['geo_area']\n",
    "\n",
    "\n",
    "    geo_with_vtd_shape_data = geo_with_vtd_shape_data[geo_with_vtd_shape_data.area_proportion >= .99]\n",
    "\n",
    "    \n",
    "\n",
    "    \n",
    "\n"
   ]
  },
  {
   "cell_type": "code",
   "execution_count": 49,
   "id": "4d04bfa1",
   "metadata": {},
   "outputs": [],
   "source": [
    "# Intersect geos with VTDs, compute area ratios\n",
    "\n",
    "# add back in block shape data\n",
    "geo_table_with_shape_data = blocks.merge(mapping)\n",
    "# add back in VTD shape data\n",
    "geo_with_vtd_shape_data  = geo_table_with_shape_data.merge(vtd,\n",
    "                                                      left_on = \"VTD\", right_on = \"VTD\",\n",
    "                                                      suffixes = ('_block', '_vtd'))\n",
    "\n",
    "\n",
    "\n",
    "geo_geos = gpd.GeoSeries(geo_with_vtd_shape_data.geometry_block).to_crs(\"ESRI:103500\")\n",
    "geo_with_vtd_shape_data['geo_intersect'] = geo_geos.intersection(gpd.GeoSeries(geo_with_vtd_shape_data.geometry_vtd).to_crs(\"ESRI:103500\"))\n",
    "geo_with_vtd_shape_data['geo_area'] = geo_geos.area\n",
    "geo_with_vtd_shape_data['intersect_area'] = gpd.GeoSeries(geo_with_vtd_shape_data.geo_intersect).to_crs(\"ESRI:103500\").area\n",
    "geo_with_vtd_shape_data['area_proportion'] =  geo_with_vtd_shape_data['intersect_area'] / geo_with_vtd_shape_data['geo_area']\n",
    "\n",
    "\n",
    "geo_with_vtd_shape_data = geo_with_vtd_shape_data[geo_with_vtd_shape_data.area_proportion >= .99]"
   ]
  },
  {
   "cell_type": "code",
   "execution_count": 44,
   "id": "a98a3d16",
   "metadata": {},
   "outputs": [],
   "source": []
  },
  {
   "cell_type": "code",
   "execution_count": null,
   "id": "4b5ac465",
   "metadata": {},
   "outputs": [],
   "source": []
  },
  {
   "cell_type": "code",
   "execution_count": 50,
   "id": "79d9a748",
   "metadata": {},
   "outputs": [],
   "source": [
    "pops = pd.read_csv('./data/us2016.csv')\n",
    "pops['block_fips'] = pops.block_fips.astype(\"str\")\n",
    "vote_fields = [\"EL16G_GV_R\" , \"EL16G_GV_D\", \"TOTPOP\"]\n",
    "fields = ['VTD', \"GEOID10\", 'geometry', 'area_proportion' ] +  vote_fields\n",
    "geos_simple = geo_with_vtd_shape_data.rename(columns = {\"geometry_block\" : \"geometry\" })[fields]\n",
    "geo_with_pop = geos_simple.merge(pops, left_on = \"GEOID10\", right_on = 'block_fips',)"
   ]
  },
  {
   "cell_type": "code",
   "execution_count": 51,
   "id": "8bfe6d2c",
   "metadata": {},
   "outputs": [
    {
     "ename": "AttributeError",
     "evalue": "'DataFrame' object has no attribute 'to_file'",
     "output_type": "error",
     "traceback": [
      "\u001b[0;31m---------------------------------------------------------------------------\u001b[0m",
      "\u001b[0;31mAttributeError\u001b[0m                            Traceback (most recent call last)",
      "Cell \u001b[0;32mIn [51], line 23\u001b[0m\n\u001b[1;32m     20\u001b[0m gdf_dedupped \u001b[39m=\u001b[39m geo_with_pop\u001b[39m.\u001b[39msort_values(\u001b[39m'\u001b[39m\u001b[39marea_proportion\u001b[39m\u001b[39m'\u001b[39m)\u001b[39m.\u001b[39mdrop_duplicates(\u001b[39m'\u001b[39m\u001b[39mGEOID10\u001b[39m\u001b[39m'\u001b[39m, keep\u001b[39m=\u001b[39m\u001b[39m'\u001b[39m\u001b[39mlast\u001b[39m\u001b[39m'\u001b[39m)\n\u001b[1;32m     21\u001b[0m gdf_dedupped\u001b[39m.\u001b[39mpop2016\u001b[39m.\u001b[39msum() \u001b[39m/\u001b[39m geo_with_pop\u001b[39m.\u001b[39mpop2016\u001b[39m.\u001b[39msum()\n\u001b[0;32m---> 23\u001b[0m gdf_dedupped\u001b[39m.\u001b[39;49mto_file(\u001b[39m'\u001b[39m\u001b[39m./processed_data_outputs/blocks_with_votes.shp\u001b[39m\u001b[39m'\u001b[39m)\n",
      "File \u001b[0;32m~/opt/anaconda3/envs/gerry/lib/python3.9/site-packages/pandas/core/generic.py:5902\u001b[0m, in \u001b[0;36mNDFrame.__getattr__\u001b[0;34m(self, name)\u001b[0m\n\u001b[1;32m   5895\u001b[0m \u001b[39mif\u001b[39;00m (\n\u001b[1;32m   5896\u001b[0m     name \u001b[39mnot\u001b[39;00m \u001b[39min\u001b[39;00m \u001b[39mself\u001b[39m\u001b[39m.\u001b[39m_internal_names_set\n\u001b[1;32m   5897\u001b[0m     \u001b[39mand\u001b[39;00m name \u001b[39mnot\u001b[39;00m \u001b[39min\u001b[39;00m \u001b[39mself\u001b[39m\u001b[39m.\u001b[39m_metadata\n\u001b[1;32m   5898\u001b[0m     \u001b[39mand\u001b[39;00m name \u001b[39mnot\u001b[39;00m \u001b[39min\u001b[39;00m \u001b[39mself\u001b[39m\u001b[39m.\u001b[39m_accessors\n\u001b[1;32m   5899\u001b[0m     \u001b[39mand\u001b[39;00m \u001b[39mself\u001b[39m\u001b[39m.\u001b[39m_info_axis\u001b[39m.\u001b[39m_can_hold_identifiers_and_holds_name(name)\n\u001b[1;32m   5900\u001b[0m ):\n\u001b[1;32m   5901\u001b[0m     \u001b[39mreturn\u001b[39;00m \u001b[39mself\u001b[39m[name]\n\u001b[0;32m-> 5902\u001b[0m \u001b[39mreturn\u001b[39;00m \u001b[39mobject\u001b[39;49m\u001b[39m.\u001b[39;49m\u001b[39m__getattribute__\u001b[39;49m(\u001b[39mself\u001b[39;49m, name)\n",
      "\u001b[0;31mAttributeError\u001b[0m: 'DataFrame' object has no attribute 'to_file'"
     ]
    }
   ],
   "source": [
    "# VTD level sums -- doing because the VTD tot pop is generally not equal to the sum of the block pops in it\n",
    "# This indicates some data level issue , probably in addition to the non exact containment issue.\n",
    "# Code to check:\n",
    "# merged = geo_with_pop[[\"TOTPOP\", \"VTD\"]].merge(geo_with_pop[[\"pop2016\", \"VTD\"]].groupby(\"VTD\").agg(sum).reset_index(), left_on = \"VTD\", right_on = \"VTD\")\n",
    "# (merged.TOTPOP / merged.pop2016).sort_values().apply(lambda x : round(x,1) ).value_counts()\n",
    "# But ignoring for now.\n",
    "vtds_block_pops = geo_with_pop[[\"pop2016\", \"VTD\"]].groupby(\"VTD\").agg(sum)\n",
    "vtds_block_pops.columns = [\"pop2016_VTD_total\"]\n",
    "geo_with_pop = geo_with_pop.merge(vtds_block_pops, left_on = \"VTD\", right_index = True)\n",
    "geo_with_pop['pop_proportion'] = geo_with_pop.pop2016 /  geo_with_pop.pop2016_VTD_total\n",
    "\n",
    "# Filter out and set to zero for the ones where the intersectiokn is too small\n",
    "# NB: I did not include this step the first itme running it; TODO -- rerun.\n",
    "\n",
    "vote_fields = [\"EL16G_GV_R\" , \"EL16G_GV_D\", \"TOTPOP\"]\n",
    "for field in vote_fields:\n",
    "    # Eventually replace with ecological inference or something\n",
    "    geo_with_pop[field + \"_block\"] = geo_with_pop['pop_proportion'] * geo_with_pop[field]\n",
    "\n",
    "gdf_dedupped = geo_with_pop.sort_values('area_proportion').drop_duplicates('GEOID10', keep='last')\n",
    "gdf_dedupped.pop2016.sum() / geo_with_pop.pop2016.sum()\n",
    "\n",
    "gpd.GeoDataFrame(gdf_dedupped).to_file('./processed_data_outputs/blocks_with_votes.shp')"
   ]
  },
  {
   "cell_type": "code",
   "execution_count": 53,
   "id": "9b8d7664",
   "metadata": {},
   "outputs": [
    {
     "name": "stderr",
     "output_type": "stream",
     "text": [
      "/var/folders/wm/q6gwq3q56yj8rdyj_h_qhkd40000gn/T/ipykernel_5668/1556453969.py:1: UserWarning: Column names longer than 10 characters will be truncated when saved to ESRI Shapefile.\n",
      "  gpd.GeoDataFrame(gdf_dedupped).to_file('./processed_data_outputs/blocks_with_votes.shp')\n"
     ]
    }
   ],
   "source": [
    "\n",
    "gpd.GeoDataFrame(gdf_dedupped).to_file('./processed_data_outputs/blocks_with_votes.shp')"
   ]
  },
  {
   "cell_type": "code",
   "execution_count": null,
   "id": "5058a801",
   "metadata": {},
   "outputs": [],
   "source": []
  },
  {
   "cell_type": "code",
   "execution_count": 23,
   "id": "92604591",
   "metadata": {},
   "outputs": [
    {
     "data": {
      "text/plain": [
       "0.6278388760008075"
      ]
     },
     "execution_count": 23,
     "metadata": {},
     "output_type": "execute_result"
    }
   ],
   "source": []
  },
  {
   "cell_type": "code",
   "execution_count": 25,
   "id": "3526ff74",
   "metadata": {},
   "outputs": [
    {
     "name": "stderr",
     "output_type": "stream",
     "text": [
      "/var/folders/wm/q6gwq3q56yj8rdyj_h_qhkd40000gn/T/ipykernel_5668/2074470958.py:1: UserWarning: Column names longer than 10 characters will be truncated when saved to ESRI Shapefile.\n",
      "  test.to_file('./processed_data_outputs/blocks_with_votes.shp')\n"
     ]
    }
   ],
   "source": []
  },
  {
   "cell_type": "code",
   "execution_count": 54,
   "id": "a0534c93",
   "metadata": {},
   "outputs": [
    {
     "name": "stderr",
     "output_type": "stream",
     "text": [
      "/var/folders/wm/q6gwq3q56yj8rdyj_h_qhkd40000gn/T/ipykernel_5668/2014793804.py:5: UserWarning: Column names longer than 10 characters will be truncated when saved to ESRI Shapefile.\n",
      "  test.to_file('./processed_data_outputs/blocks_with_votes.shp')\n"
     ]
    }
   ],
   "source": [
    "gdf_subset = gdf_dedupped[['VTD', \"GEOID10\", 'geometry', \"TOTPOP\", \"pop2016\", \"pop_proportion\", 'area_proportion' ] +  [ x + \"_block\" for x in vote_fields] ]\n",
    "gdf_subset = gpd.GeoDataFrame(gdf_subset)\n",
    "\n",
    "test = gpd.GeoDataFrame(gdf_subset, geometry=\"geometry\", crs= \"ESRI:103500\")#.head(10)\n",
    "test.to_file('./processed_data_outputs/blocks_with_votes.shp')"
   ]
  },
  {
   "cell_type": "code",
   "execution_count": 55,
   "id": "2e60a429",
   "metadata": {},
   "outputs": [
    {
     "data": {
      "text/html": [
       "<div>\n",
       "<style scoped>\n",
       "    .dataframe tbody tr th:only-of-type {\n",
       "        vertical-align: middle;\n",
       "    }\n",
       "\n",
       "    .dataframe tbody tr th {\n",
       "        vertical-align: top;\n",
       "    }\n",
       "\n",
       "    .dataframe thead th {\n",
       "        text-align: right;\n",
       "    }\n",
       "</style>\n",
       "<table border=\"1\" class=\"dataframe\">\n",
       "  <thead>\n",
       "    <tr style=\"text-align: right;\">\n",
       "      <th></th>\n",
       "      <th>VTD</th>\n",
       "      <th>GEOID10</th>\n",
       "      <th>geometry</th>\n",
       "      <th>TOTPOP</th>\n",
       "      <th>pop2016</th>\n",
       "      <th>pop_proportion</th>\n",
       "      <th>area_proportion</th>\n",
       "      <th>EL16G_GV_R_block</th>\n",
       "      <th>EL16G_GV_D_block</th>\n",
       "      <th>TOTPOP_block</th>\n",
       "    </tr>\n",
       "  </thead>\n",
       "  <tbody>\n",
       "    <tr>\n",
       "      <th>212961</th>\n",
       "      <td>37087FC-1</td>\n",
       "      <td>370879201021102</td>\n",
       "      <td>POLYGON ((-83.098 35.776, -83.098 35.776, -83....</td>\n",
       "      <td>1020</td>\n",
       "      <td>0</td>\n",
       "      <td>0.000000</td>\n",
       "      <td>0.990000</td>\n",
       "      <td>0.000000</td>\n",
       "      <td>0.000000</td>\n",
       "      <td>0.000000</td>\n",
       "    </tr>\n",
       "    <tr>\n",
       "      <th>259347</th>\n",
       "      <td>37087BE-4</td>\n",
       "      <td>370879202001071</td>\n",
       "      <td>POLYGON ((-82.808 35.574, -82.808 35.574, -82....</td>\n",
       "      <td>2303</td>\n",
       "      <td>326</td>\n",
       "      <td>0.139555</td>\n",
       "      <td>0.990001</td>\n",
       "      <td>92.803938</td>\n",
       "      <td>59.310788</td>\n",
       "      <td>321.394692</td>\n",
       "    </tr>\n",
       "    <tr>\n",
       "      <th>200308</th>\n",
       "      <td>3719101</td>\n",
       "      <td>371910001013036</td>\n",
       "      <td>POLYGON ((-78.084 35.549, -78.084 35.550, -78....</td>\n",
       "      <td>3905</td>\n",
       "      <td>75</td>\n",
       "      <td>0.019773</td>\n",
       "      <td>0.990009</td>\n",
       "      <td>20.702610</td>\n",
       "      <td>10.064593</td>\n",
       "      <td>77.214606</td>\n",
       "    </tr>\n",
       "    <tr>\n",
       "      <th>182673</th>\n",
       "      <td>37119127</td>\n",
       "      <td>371190064042067</td>\n",
       "      <td>POLYGON ((-80.790 35.468, -80.790 35.468, -80....</td>\n",
       "      <td>4976</td>\n",
       "      <td>225</td>\n",
       "      <td>0.038213</td>\n",
       "      <td>0.990010</td>\n",
       "      <td>68.019701</td>\n",
       "      <td>66.376529</td>\n",
       "      <td>190.149457</td>\n",
       "    </tr>\n",
       "    <tr>\n",
       "      <th>232969</th>\n",
       "      <td>37027PR07</td>\n",
       "      <td>370270309001058</td>\n",
       "      <td>POLYGON ((-81.779 36.004, -81.779 36.004, -81....</td>\n",
       "      <td>2754</td>\n",
       "      <td>0</td>\n",
       "      <td>0.000000</td>\n",
       "      <td>0.990012</td>\n",
       "      <td>0.000000</td>\n",
       "      <td>0.000000</td>\n",
       "      <td>0.000000</td>\n",
       "    </tr>\n",
       "    <tr>\n",
       "      <th>...</th>\n",
       "      <td>...</td>\n",
       "      <td>...</td>\n",
       "      <td>...</td>\n",
       "      <td>...</td>\n",
       "      <td>...</td>\n",
       "      <td>...</td>\n",
       "      <td>...</td>\n",
       "      <td>...</td>\n",
       "      <td>...</td>\n",
       "      <td>...</td>\n",
       "    </tr>\n",
       "    <tr>\n",
       "      <th>92042</th>\n",
       "      <td>37125NSP</td>\n",
       "      <td>371259509003023</td>\n",
       "      <td>POLYGON ((-79.392 35.174, -79.391 35.175, -79....</td>\n",
       "      <td>3081</td>\n",
       "      <td>3</td>\n",
       "      <td>0.000901</td>\n",
       "      <td>1.000000</td>\n",
       "      <td>0.747296</td>\n",
       "      <td>0.753606</td>\n",
       "      <td>2.777344</td>\n",
       "    </tr>\n",
       "    <tr>\n",
       "      <th>224</th>\n",
       "      <td>3703742</td>\n",
       "      <td>370370208003016</td>\n",
       "      <td>POLYGON ((-79.107 35.731, -79.107 35.731, -79....</td>\n",
       "      <td>2042</td>\n",
       "      <td>0</td>\n",
       "      <td>0.000000</td>\n",
       "      <td>1.000000</td>\n",
       "      <td>0.000000</td>\n",
       "      <td>0.000000</td>\n",
       "      <td>0.000000</td>\n",
       "    </tr>\n",
       "    <tr>\n",
       "      <th>59420</th>\n",
       "      <td>371471201</td>\n",
       "      <td>371470009003065</td>\n",
       "      <td>POLYGON ((-77.363 35.659, -77.363 35.660, -77....</td>\n",
       "      <td>7896</td>\n",
       "      <td>2</td>\n",
       "      <td>0.000244</td>\n",
       "      <td>1.000000</td>\n",
       "      <td>0.303371</td>\n",
       "      <td>0.292379</td>\n",
       "      <td>1.928676</td>\n",
       "    </tr>\n",
       "    <tr>\n",
       "      <th>58880</th>\n",
       "      <td>371471504</td>\n",
       "      <td>371470006011076</td>\n",
       "      <td>POLYGON ((-77.425 35.598, -77.424 35.598, -77....</td>\n",
       "      <td>9389</td>\n",
       "      <td>1</td>\n",
       "      <td>0.000101</td>\n",
       "      <td>1.000000</td>\n",
       "      <td>0.104822</td>\n",
       "      <td>0.359951</td>\n",
       "      <td>0.949055</td>\n",
       "    </tr>\n",
       "    <tr>\n",
       "      <th>40884</th>\n",
       "      <td>37129FP02</td>\n",
       "      <td>371290122031002</td>\n",
       "      <td>POLYGON ((-77.906 34.017, -77.906 34.017, -77....</td>\n",
       "      <td>3341</td>\n",
       "      <td>4</td>\n",
       "      <td>0.001007</td>\n",
       "      <td>1.000000</td>\n",
       "      <td>1.149761</td>\n",
       "      <td>0.999748</td>\n",
       "      <td>3.363705</td>\n",
       "    </tr>\n",
       "  </tbody>\n",
       "</table>\n",
       "<p>283376 rows × 10 columns</p>\n",
       "</div>"
      ],
      "text/plain": [
       "              VTD          GEOID10  \\\n",
       "212961  37087FC-1  370879201021102   \n",
       "259347  37087BE-4  370879202001071   \n",
       "200308    3719101  371910001013036   \n",
       "182673   37119127  371190064042067   \n",
       "232969  37027PR07  370270309001058   \n",
       "...           ...              ...   \n",
       "92042    37125NSP  371259509003023   \n",
       "224       3703742  370370208003016   \n",
       "59420   371471201  371470009003065   \n",
       "58880   371471504  371470006011076   \n",
       "40884   37129FP02  371290122031002   \n",
       "\n",
       "                                                 geometry  TOTPOP  pop2016  \\\n",
       "212961  POLYGON ((-83.098 35.776, -83.098 35.776, -83....    1020        0   \n",
       "259347  POLYGON ((-82.808 35.574, -82.808 35.574, -82....    2303      326   \n",
       "200308  POLYGON ((-78.084 35.549, -78.084 35.550, -78....    3905       75   \n",
       "182673  POLYGON ((-80.790 35.468, -80.790 35.468, -80....    4976      225   \n",
       "232969  POLYGON ((-81.779 36.004, -81.779 36.004, -81....    2754        0   \n",
       "...                                                   ...     ...      ...   \n",
       "92042   POLYGON ((-79.392 35.174, -79.391 35.175, -79....    3081        3   \n",
       "224     POLYGON ((-79.107 35.731, -79.107 35.731, -79....    2042        0   \n",
       "59420   POLYGON ((-77.363 35.659, -77.363 35.660, -77....    7896        2   \n",
       "58880   POLYGON ((-77.425 35.598, -77.424 35.598, -77....    9389        1   \n",
       "40884   POLYGON ((-77.906 34.017, -77.906 34.017, -77....    3341        4   \n",
       "\n",
       "        pop_proportion  area_proportion  EL16G_GV_R_block  EL16G_GV_D_block  \\\n",
       "212961        0.000000         0.990000          0.000000          0.000000   \n",
       "259347        0.139555         0.990001         92.803938         59.310788   \n",
       "200308        0.019773         0.990009         20.702610         10.064593   \n",
       "182673        0.038213         0.990010         68.019701         66.376529   \n",
       "232969        0.000000         0.990012          0.000000          0.000000   \n",
       "...                ...              ...               ...               ...   \n",
       "92042         0.000901         1.000000          0.747296          0.753606   \n",
       "224           0.000000         1.000000          0.000000          0.000000   \n",
       "59420         0.000244         1.000000          0.303371          0.292379   \n",
       "58880         0.000101         1.000000          0.104822          0.359951   \n",
       "40884         0.001007         1.000000          1.149761          0.999748   \n",
       "\n",
       "        TOTPOP_block  \n",
       "212961      0.000000  \n",
       "259347    321.394692  \n",
       "200308     77.214606  \n",
       "182673    190.149457  \n",
       "232969      0.000000  \n",
       "...              ...  \n",
       "92042       2.777344  \n",
       "224         0.000000  \n",
       "59420       1.928676  \n",
       "58880       0.949055  \n",
       "40884       3.363705  \n",
       "\n",
       "[283376 rows x 10 columns]"
      ]
     },
     "execution_count": 55,
     "metadata": {},
     "output_type": "execute_result"
    }
   ],
   "source": [
    "test"
   ]
  },
  {
   "cell_type": "code",
   "execution_count": null,
   "id": "bf759fd7",
   "metadata": {},
   "outputs": [
    {
     "ename": "",
     "evalue": "",
     "output_type": "error",
     "traceback": [
      "\u001b[1;31mRunning cells with 'Python 3.9.15 ('gerry')' requires ipykernel package.\n",
      "\u001b[1;31mRun the following command to install 'ipykernel' into the Python environment. \n",
      "\u001b[1;31mCommand: 'conda install -n gerry ipykernel --update-deps --force-reinstall'"
     ]
    }
   ],
   "source": [
    "test_in = gpd.read_file('./processed_data_outputs/blocks_with_votes.shp')"
   ]
  },
  {
   "cell_type": "code",
   "execution_count": null,
   "id": "24e4542f",
   "metadata": {},
   "outputs": [],
   "source": []
  },
  {
   "cell_type": "code",
   "execution_count": null,
   "id": "3f62e0d2",
   "metadata": {},
   "outputs": [
    {
     "ename": "",
     "evalue": "",
     "output_type": "error",
     "traceback": [
      "\u001b[1;31mRunning cells with 'Python 3.9.15 ('gerry')' requires ipykernel package.\n",
      "\u001b[1;31mRun the following command to install 'ipykernel' into the Python environment. \n",
      "\u001b[1;31mCommand: 'conda install -n gerry ipykernel --update-deps --force-reinstall'"
     ]
    }
   ],
   "source": []
  },
  {
   "cell_type": "code",
   "execution_count": 29,
   "id": "d821e079",
   "metadata": {},
   "outputs": [
    {
     "name": "stderr",
     "output_type": "stream",
     "text": [
      "/Users/elle/opt/anaconda3/envs/gerry/lib/python3.9/site-packages/gerrychain/graph/adjacency.py:23: ShapelyDeprecationWarning: STRtree will be changed in 2.0.0 and will not be compatible with versions < 2.\n",
      "  tree = STRtree(geometries)\n",
      "/Users/elle/opt/anaconda3/envs/gerry/lib/python3.9/site-packages/gerrychain/graph/graph.py:272: UserWarning: NA values found in column dem_prop!\n",
      "  warnings.warn(\"NA values found in column {}!\".format(column))\n",
      "/Users/elle/opt/anaconda3/envs/gerry/lib/python3.9/site-packages/gerrychain/graph/graph.py:272: UserWarning: NA values found in column rep_prop!\n",
      "  warnings.warn(\"NA values found in column {}!\".format(column))\n"
     ]
    }
   ],
   "source": [
    "\n",
    "from gerrychain import Graph\n",
    "\n",
    "gdf_subset['pos'] = gdf_subset.centroid\n",
    "gdf_subset = gdf_subset.rename(columns = { \"EL16G_GV_D_block\" : \"dem\", \"EL16G_GV_R_block\" : \"rep\"})\n",
    "gdf_subset['dem_prop'] = gdf_subset.dem / gdf_subset.TOTPOP_block\n",
    "gdf_subset['rep_prop'] = gdf_subset.rep / gdf_subset.TOTPOP_block\n",
    "\n",
    "blocks_graph = Graph.from_geodataframe(gdf_subset, ignore_errors=True)\n",
    "blocks_graph.to_json('./processed_data_outputs/blocks_graph.json', include_geometries_as_geojson=True)"
   ]
  },
  {
   "cell_type": "code",
   "execution_count": 31,
   "id": "066934d7",
   "metadata": {},
   "outputs": [
    {
     "data": {
      "text/plain": [
       "<Graph [288987 nodes, 708356 edges]>"
      ]
     },
     "execution_count": 31,
     "metadata": {},
     "output_type": "execute_result"
    }
   ],
   "source": [
    "blocks_graph"
   ]
  },
  {
   "cell_type": "code",
   "execution_count": 33,
   "id": "01fa02bf",
   "metadata": {},
   "outputs": [],
   "source": [
    "def condensce_by_partition(graph, part):\n",
    "    # given graph, and label field for each node, return graph where all the nodes with the same lable have been contracted\n",
    "    # also, add up the pops and votes in each block\n",
    "    graph_copy = graph.copy()\n",
    "    \n",
    "    for supernode in part.parts.values():\n",
    "        nodes = list(supernode)\n",
    "        for node in nodes[1:]:\n",
    "            \n",
    "            tot_pop = graph_copy.nodes[nodes[0]]['TOTPOP_block'] + graph_copy.nodes[node]['TOTPOP_block']\n",
    "            tot_dem = graph_copy.nodes[nodes[0]]['dem']+ graph_copy.nodes[node]['dem']\n",
    "            tot_rep = graph_copy.nodes[nodes[0]]['rep'] + graph_copy.nodes[node]['rep']\n",
    "            nx.contracted_nodes(graph_copy, nodes[0], node, copy = False)\n",
    "            graph_copy.nodes[nodes[0]]['TOTPOP_block'] = tot_pop\n",
    "            graph_copy.nodes[nodes[0]]['dem'] = tot_dem\n",
    "            graph_copy.nodes[nodes[0]]['rep'] = tot_rep\n",
    "            \n",
    "    return graph_copy"
   ]
  },
  {
   "cell_type": "code",
   "execution_count": null,
   "id": "3bbb7d1f",
   "metadata": {},
   "outputs": [],
   "source": []
  },
  {
   "cell_type": "code",
   "execution_count": 57,
   "id": "e5f560b6",
   "metadata": {},
   "outputs": [
    {
     "data": {
      "text/plain": [
       "Index(['VTD', 'GEOID10', 'geometry', 'area_proportion', 'EL16G_GV_R',\n",
       "       'EL16G_GV_D', 'TOTPOP', 'stateabbr', 'block_fips', 'hu2010', 'hu2011',\n",
       "       'hu2012', 'hu2013', 'hu2014', 'hu2015', 'hu2016', 'pop2010', 'pop2011',\n",
       "       'pop2012', 'pop2013', 'pop2014', 'pop2015', 'pop2016', 'hh2010',\n",
       "       'hh2011', 'hh2012', 'hh2013', 'hh2014', 'hh2015', 'hh2016',\n",
       "       'pop2016_VTD_total', 'pop_proportion', 'EL16G_GV_R_block',\n",
       "       'EL16G_GV_D_block', 'TOTPOP_block'],\n",
       "      dtype='object')"
      ]
     },
     "execution_count": 57,
     "metadata": {},
     "output_type": "execute_result"
    }
   ],
   "source": [
    "gdf_dedupped.columns"
   ]
  },
  {
   "cell_type": "code",
   "execution_count": 32,
   "id": "e6386462",
   "metadata": {},
   "outputs": [],
   "source": [
    "#blocks_graph_in = Graph.from_json('./processed_data_outputs/blocks_graph.json')"
   ]
  },
  {
   "cell_type": "code",
   "execution_count": null,
   "id": "3f03d1e0",
   "metadata": {},
   "outputs": [
    {
     "ename": "",
     "evalue": "",
     "output_type": "error",
     "traceback": [
      "\u001b[1;31mRunning cells with 'Python 3.9.15 ('gerry')' requires ipykernel package.\n",
      "\u001b[1;31mRun the following command to install 'ipykernel' into the Python environment. \n",
      "\u001b[1;31mCommand: 'conda install -n gerry ipykernel --update-deps --force-reinstall'"
     ]
    }
   ],
   "source": [
    "import pandas as pd\n",
    "import pymc3 as pm\n",
    "\n",
    "# # read in data\n",
    "# county_votes = pd.read_csv('county_votes.csv')\n",
    "# block_demographics = pd.read_csv('block_demographics.csv')\n",
    "\n",
    "# # merge dataframes\n",
    "# merged_data = pd.merge(county_votes, block_demographics, on='county')\n",
    "\n",
    "block_demographics = [\"\"]\n",
    "\n",
    "# create model with pymc3\n",
    "with pm.Model() as model:\n",
    "    # priors for county-level votes\n",
    "    county_vote_mean = pm.Normal('vtd_dem_prop_mean', mu=0, sd=10)\n",
    "    county_vote_sd = pm.HalfNormal('vtd_dem_prop_mean', sd=10)\n",
    "    \n",
    "    # incorporate demographic features into model\n",
    "    for feature in block_demographics.columns:\n",
    "        if feature != 'votes':\n",
    "            feature_coef = pm.Normal(f'{feature}_coef', mu=0, sd=1)\n",
    "            county_vote_mean += feature_coef * merged_data[feature]\n",
    "    \n",
    "    # likelihood of block-level votes\n",
    "    block_votes = pm.Normal('block_votes', mu=county_vote_mean, sd=county_vote_sd, observed=merged_data['votes'])\n",
    "    \n",
    "    # fit model\n",
    "    trace = pm.sample(1000)\n",
    "\n",
    "# summarize results\n",
    "pm.summary(trace)\n"
   ]
  },
  {
   "cell_type": "code",
   "execution_count": null,
   "id": "890d6f33",
   "metadata": {},
   "outputs": [
    {
     "ename": "",
     "evalue": "",
     "output_type": "error",
     "traceback": [
      "\u001b[1;31mRunning cells with 'Python 3.9.15 ('gerry')' requires ipykernel package.\n",
      "\u001b[1;31mRun the following command to install 'ipykernel' into the Python environment. \n",
      "\u001b[1;31mCommand: 'conda install -n gerry ipykernel --update-deps --force-reinstall'"
     ]
    }
   ],
   "source": []
  },
  {
   "cell_type": "code",
   "execution_count": null,
   "id": "b12abf88",
   "metadata": {},
   "outputs": [
    {
     "ename": "",
     "evalue": "",
     "output_type": "error",
     "traceback": [
      "\u001b[1;31mRunning cells with 'Python 3.9.15 ('gerry')' requires ipykernel package.\n",
      "\u001b[1;31mRun the following command to install 'ipykernel' into the Python environment. \n",
      "\u001b[1;31mCommand: 'conda install -n gerry ipykernel --update-deps --force-reinstall'"
     ]
    }
   ],
   "source": []
  }
 ],
 "metadata": {
  "kernelspec": {
   "display_name": "Python 3.9.15 ('gerry')",
   "language": "python",
   "name": "python3"
  },
  "language_info": {
   "codemirror_mode": {
    "name": "ipython",
    "version": 3
   },
   "file_extension": ".py",
   "mimetype": "text/x-python",
   "name": "python",
   "nbconvert_exporter": "python",
   "pygments_lexer": "ipython3",
   "version": "3.9.15"
  },
  "vscode": {
   "interpreter": {
    "hash": "03500f725345e0515d5e4cba947e9b370220a5b7147654dd32279f2ca01183d7"
   }
  }
 },
 "nbformat": 4,
 "nbformat_minor": 5
}
