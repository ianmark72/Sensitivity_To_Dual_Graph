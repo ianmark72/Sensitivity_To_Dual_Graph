{
 "cells": [
  {
   "cell_type": "code",
   "execution_count": null,
   "id": "f4074058",
   "metadata": {},
   "outputs": [],
   "source": [
    "import geopandas as gpd\n",
    "import pandas as pd\n",
    "from gerrychain import Graph\n",
    "import random\n",
    "import networkx as nx\n",
    "import numpy as np\n",
    "\n",
    "import facefinder\n",
    "import numpy as np\n",
    "import pandas as pd\n",
    "import random\n",
    "import pickle\n",
    "import csv\n",
    "import copy\n",
    "import statistics\n",
    "import math\n",
    "import gerrychain\n",
    "import networkx\n",
    "import matplotlib as mpl\n",
    "import matplotlib.pyplot as plt\n",
    "import networkx as nx\n",
    "import os\n",
    "import json\n",
    "import argparse\n",
    "from functools import partial\n",
    "from gerrychain.tree import bipartition_tree as bpt\n",
    "from gerrychain import Graph, MarkovChain\n",
    "from gerrychain import accept\n",
    "from gerrychain.constraints import (Validator, single_flip_contiguous,\n",
    "                                    within_percent_of_ideal_population, UpperBound)\n",
    "from gerrychain.proposals import propose_random_flip, propose_chunk_flip\n",
    "from gerrychain.accept import always_accept\n",
    "from gerrychain.updaters import Election, Tally, cut_edges\n",
    "from gerrychain import GeographicPartition\n",
    "from gerrychain.partition import Partition\n",
    "from gerrychain.proposals import recom\n",
    "from gerrychain.metrics import mean_median, efficiency_gap\n",
    "from gerrychain.tree import recursive_tree_part, bipartition_tree_random, PopulatedGraph, random_spanning_tree\n",
    "from collections import defaultdict\n",
    "from datetime import datetime\n",
    "import time\n",
    "from concurrent.futures import ProcessPoolExecutor\n",
    "import logging\n",
    "\n",
    "vtd = gpd.read_file(\"./data/NC_VTD.shp\").to_crs(\"EPSG:4269\")\n",
    "bg = gpd.read_file(\"./data/tl_2016_37_bg.shp\").to_crs(\"EPSG:4269\")\n",
    "blocks = gpd.read_file(\"./data/blocks/tl_2016_37_tabblock10.shp\").to_crs(\"EPSG:4269\")"
   ]
  },
  {
   "cell_type": "code",
   "execution_count": null,
   "id": "04471472",
   "metadata": {},
   "outputs": [],
   "source": [
    "#joined_within = gpd.sjoin(blocks, vtd, how = 'left', predicate = 'within' )\n",
    "#joined_within[[\"GEOID10\", \"VTD\"]].groupby(\"GEOID10\").agg('count').value_counts()\n",
    "\n",
    "i = 0 # only change to 1 to experiment with block groups;\n",
    "geo_table = [ blocks, bg][i]\n",
    "geo_id = [\"GEOID10\", \"GEOID\"][i]\n",
    "\n",
    "joined = gpd.sjoin(geo_table, vtd, how = 'left',  predicate = 'intersects' )\n",
    "mapping = joined[[geo_id, \"VTD\"]]"
   ]
  },
  {
   "cell_type": "code",
   "execution_count": null,
   "id": "0bb50c6b",
   "metadata": {},
   "outputs": [],
   "source": [
    "display(joined[[geo_id, \"VTD\"]].groupby(geo_id).agg('count').value_counts())\n",
    "#counts = joined[[geo_id, \"VTD\"]].groupby(geo_id).agg('count').rename(columns = {\"VTD\" : \"NUM INTERSECTIONS\"})\n",
    "#m = joined.merge(counts, left_on = geo_id, right_index = True)\n",
    "#m[m[\"NUM INTERSECTIONS\"] <= 5].plot(\"NUM INTERSECTIONS\", legend = True)"
   ]
  },
  {
   "cell_type": "code",
   "execution_count": null,
   "id": "4d04bfa1",
   "metadata": {},
   "outputs": [],
   "source": [
    "# Intersect geos with VTDs, compute area ratios\n",
    "geo_table_with_map = geo_table.merge(mapping)#.merge(vtd[[\"VTD\", \"geometry\"]], suffixes = ('_block', '_vt') )\n",
    "geo_with_vtd = geo_table_with_map.merge(vtd,\n",
    "                                                      left_on = \"VTD\", right_on = \"VTD\",\n",
    "                                                      suffixes = ('_geo', '_vtd'))\n",
    "\n",
    "geo_geos = gpd.GeoSeries(geo_with_vtd.geometry_geo).to_crs(\"ESRI:103500\")\n",
    "geo_with_vtd['geo_intersect'] = geo_geos.intersection(gpd.GeoSeries(geo_with_vtd.geometry_vtd).to_crs(\"ESRI:103500\"))\n",
    "geo_with_vtd['geo_area'] = geo_geos.area\n",
    "geo_with_vtd['intersect_area'] = gpd.GeoSeries(geo_with_vtd.geo_intersect).to_crs(\"ESRI:103500\").area\n",
    "geo_with_vtd['area_proportion'] =  geo_with_vtd['intersect_area'] / geo_with_vtd['geo_area']"
   ]
  },
  {
   "cell_type": "code",
   "execution_count": null,
   "id": "79d9a748",
   "metadata": {},
   "outputs": [],
   "source": [
    "pops = pd.read_csv('./data/us2016_block_pops.csv')\n",
    "pops['block_fips'] = pops.block_fips.astype(\"str\")\n",
    "vote_fields = [\"EL16G_GV_R\" , \"EL16G_GV_D\", \"TOTPOP\"]\n",
    "fields = ['VTD', \"GEOID10\", 'geometry', 'area_proportion' ] +  vote_fields\n",
    "geos_simple = geo_with_vtd.rename(columns = {\"geometry_geo\" : \"geometry\" })[fields]\n",
    "geo_with_pop = geos_simple.merge(pops, left_on = geo_id, right_on = 'block_fips',)"
   ]
  },
  {
   "cell_type": "code",
   "execution_count": null,
   "id": "8bfe6d2c",
   "metadata": {},
   "outputs": [],
   "source": [
    "# VTD level sums -- doing because the VTD tot pop is generally not equal to the sum of the block pops in it\n",
    "# This indicates some data level issue , probably in addition to the non exact containment issue.\n",
    "# Code to check:\n",
    "# merged = geo_with_pop[[\"TOTPOP\", \"VTD\"]].merge(geo_with_pop[[\"pop2016\", \"VTD\"]].groupby(\"VTD\").agg(sum).reset_index(), left_on = \"VTD\", right_on = \"VTD\")\n",
    "# (merged.TOTPOP / merged.pop2016).sort_values().apply(lambda x : round(x,1) ).value_counts()\n",
    "# But ignoring for now.\n",
    "vtds_block_pops = geo_with_pop[[\"pop2016\", \"VTD\"]].groupby(\"VTD\").agg(sum)\n",
    "vtds_block_pops.columns = [\"pop2016_VTD_total\"]\n",
    "geo_with_pop = geo_with_pop.merge(vtds_block_pops, left_on = \"VTD\", right_index = True)\n",
    "geo_with_pop['pop_proportion'] = geo_with_pop.pop2016 /  geo_with_pop.pop2016_VTD_total\n",
    "\n",
    "# Filter out and set to zero for the ones where the intersectiokn is too small\n",
    "# NB: I did not include this step the first itme running it; TODO -- rerun.\n"
   ]
  },
  {
   "cell_type": "code",
   "execution_count": null,
   "id": "9b8d7664",
   "metadata": {},
   "outputs": [],
   "source": [
    "vote_fields = [\"EL16G_GV_R\" , \"EL16G_GV_D\", \"TOTPOP\"]\n",
    "for field in vote_fields:\n",
    "    # Eventually replace with ecological inference or something\n",
    "    geo_with_pop[field + \"_block\"] = geo_with_pop['pop_proportion'] * geo_with_pop[field]"
   ]
  },
  {
   "cell_type": "code",
   "execution_count": null,
   "id": "5058a801",
   "metadata": {},
   "outputs": [],
   "source": []
  },
  {
   "cell_type": "code",
   "execution_count": null,
   "id": "92604591",
   "metadata": {},
   "outputs": [],
   "source": [
    "gdf_dedupped = geo_with_pop.sort_values('area_proportion').drop_duplicates('GEOID10', keep='last')\n",
    "gdf_subset.pop2016.sum() / geo_with_pop.pop2016.sum()"
   ]
  },
  {
   "cell_type": "code",
   "execution_count": null,
   "id": "3526ff74",
   "metadata": {},
   "outputs": [],
   "source": []
  },
  {
   "cell_type": "code",
   "execution_count": null,
   "id": "a0534c93",
   "metadata": {},
   "outputs": [],
   "source": [
    "gdf_subset = gdf_dedupped[['VTD', \"GEOID10\", 'geometry', \"TOTPOP\", \"pop2016\", \"pop_proportion\", 'area_proportion' ] +  [ x + \"_block\" for x in vote_fields] ]\n",
    "gdf_subset = gpd.GeoDataFrame(gdf_subset)\n",
    "\n",
    "test = gpd.GeoDataFrame(gdf_subset, geometry=\"geometry\", crs= \"ESRI:103500\")#.head(10)\n",
    "test.to_file('./processed_data_outputs/blocks_with_votes.shp')"
   ]
  },
  {
   "cell_type": "code",
   "execution_count": null,
   "id": "2e60a429",
   "metadata": {},
   "outputs": [],
   "source": []
  },
  {
   "cell_type": "code",
   "execution_count": null,
   "id": "bf759fd7",
   "metadata": {},
   "outputs": [],
   "source": [
    "test_in = gpd.read_file('./processed_data_outputs/blocks_with_votes.shp')"
   ]
  },
  {
   "cell_type": "code",
   "execution_count": null,
   "id": "24e4542f",
   "metadata": {},
   "outputs": [],
   "source": []
  },
  {
   "cell_type": "code",
   "execution_count": null,
   "id": "3f62e0d2",
   "metadata": {},
   "outputs": [],
   "source": []
  },
  {
   "cell_type": "code",
   "execution_count": null,
   "id": "d821e079",
   "metadata": {},
   "outputs": [],
   "source": [
    "gdf_subset['pos'] = gdf_subset.centroid\n",
    "gdf_subset = gdf_subset.rename(columns = { \"EL16G_GV_D_block\" : \"dem\", \"EL16G_GV_R_block\" : \"rep\"})\n",
    "gdf_subset['dem_prop'] = gdf_subset.dem / gdf_subset.TOTPOP_block\n",
    "gdf_subset['rep_prop'] = gdf_subset.rep / gdf_subset.TOTPOP_block\n"
   ]
  },
  {
   "cell_type": "code",
   "execution_count": null,
   "id": "066934d7",
   "metadata": {},
   "outputs": [],
   "source": []
  },
  {
   "cell_type": "code",
   "execution_count": null,
   "id": "01fa02bf",
   "metadata": {},
   "outputs": [],
   "source": []
  },
  {
   "cell_type": "code",
   "execution_count": null,
   "id": "3bbb7d1f",
   "metadata": {},
   "outputs": [],
   "source": [
    "blocks_graph = Graph.from_geodataframe(gdf_subset, ignore_errors=True)#"
   ]
  },
  {
   "cell_type": "code",
   "execution_count": null,
   "id": "e5f560b6",
   "metadata": {},
   "outputs": [],
   "source": [
    "blocks_graph.to_json('./processed_data_outputs/blocks_graph.json', include_geometries_as_geojson=True)"
   ]
  },
  {
   "cell_type": "code",
   "execution_count": null,
   "id": "e6386462",
   "metadata": {},
   "outputs": [],
   "source": [
    "blocks_graph_in = Graph.from_json('./processed_data_outputs/blocks_graph.json')"
   ]
  },
  {
   "cell_type": "code",
   "execution_count": null,
   "id": "3f03d1e0",
   "metadata": {},
   "outputs": [],
   "source": []
  },
  {
   "cell_type": "code",
   "execution_count": null,
   "id": "890d6f33",
   "metadata": {},
   "outputs": [],
   "source": []
  },
  {
   "cell_type": "code",
   "execution_count": null,
   "id": "b12abf88",
   "metadata": {},
   "outputs": [],
   "source": [
    "def condensce_by_partition(graph, part):\n",
    "    # given graph, and label field for each node, return graph where all the nodes with the same lable have been contracted\n",
    "    # also, add up the pops and votes in each block\n",
    "    graph_copy = graph.copy()\n",
    "    \n",
    "    for supernode in part.parts.values():\n",
    "        nodes = list(supernode)\n",
    "        for node in nodes[1:]:\n",
    "            \n",
    "            tot_pop = graph_copy.nodes[nodes[0]]['TOTPOP_block'] + graph_copy.nodes[node]['TOTPOP_block']\n",
    "            tot_dem = graph_copy.nodes[nodes[0]]['dem']+ graph_copy.nodes[node]['dem']\n",
    "            tot_rep = graph_copy.nodes[nodes[0]]['rep'] + graph_copy.nodes[node]['rep']\n",
    "            nx.contracted_nodes(graph_copy, nodes[0], node, copy = False)\n",
    "            graph_copy.nodes[nodes[0]]['TOTPOP_block'] = tot_pop\n",
    "            graph_copy.nodes[nodes[0]]['dem'] = tot_dem\n",
    "            graph_copy.nodes[nodes[0]]['rep'] = tot_rep\n",
    "            \n",
    "    return graph_copy"
   ]
  }
 ],
 "metadata": {
  "kernelspec": {
   "display_name": "Python 3 (ipykernel)",
   "language": "python",
   "name": "python3"
  },
  "language_info": {
   "codemirror_mode": {
    "name": "ipython",
    "version": 3
   },
   "file_extension": ".py",
   "mimetype": "text/x-python",
   "name": "python",
   "nbconvert_exporter": "python",
   "pygments_lexer": "ipython3",
   "version": "3.10.6"
  }
 },
 "nbformat": 4,
 "nbformat_minor": 5
}
